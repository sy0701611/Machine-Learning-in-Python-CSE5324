{
 "cells": [
  {
   "cell_type": "markdown",
   "metadata": {},
   "source": [
    "#  Lab Assignment Three: Extending Logistic Regression"
   ]
  },
  {
   "cell_type": "markdown",
   "metadata": {},
   "source": [
    "### Group : Lone Wolf\n",
    "\n",
    "####  Member : Yang Shen"
   ]
  },
  {
   "cell_type": "markdown",
   "metadata": {},
   "source": [
    "# Business Understanding"
   ]
  },
  {
   "cell_type": "markdown",
   "metadata": {},
   "source": [
    "This is a historical dataset on the modern Olympic Games, including all the Games from Athens 1896 to Rio 2016. This dataset contains 271116 rows and 15 columns. Each row corresponds to an individual athlete competing in an individual Olympic event. I filter the dataset to only focus on the USA team data. It will reduce the size of the dataset to 14214 rows. The columns are:"
   ]
  },
  {
   "cell_type": "markdown",
   "metadata": {},
   "source": [
    "- ID - Unique number for each athlete each event\n",
    "- Name - Athlete's name\n",
    "- Sex – M (1) or F(0)\n",
    "- Age - Integer\n",
    "- Height - In centimeters\n",
    "- Weight - In kilograms\n",
    "- NOC – Nation name 3-letter code (USA)\n",
    "- Year - Integer\n",
    "- Season – Summer (0) or Winter(1)\n",
    "- City - Host city (convert to numeric)\n",
    "- Sport – Sport event name (convert to numeric)\n",
    "- Medal – Gold (3), Silver(2), Bronze(1), or No(0)"
   ]
  },
  {
   "cell_type": "markdown",
   "metadata": {},
   "source": [
    "My task is to classify which medal will athlete get or not. When the Olympic games hold, people will be really excited about it and watch the games on tv or the internet. Everyone is guessing who will get the gold medal. The party who interested in my study is the sports channel. They can use my study to predict or classifier who will get which medal. \n",
    "\n",
    "In China, some sports channel has Prize Quiz which allows people in front of the tv to guess who will get the gold medal, silver and so on. It worked like the gamble, it has odds. The odds will be determined by classification. If one athlete we predict is gold, we will set the odds low. Which means that this athlete has a high chance to win the gold medal. If you guess correctly, you will not win too much. The same story for an athlete we predict will not get any medal. He/she will have higher odds if he/she gets a medal. "
   ]
  },
  {
   "cell_type": "markdown",
   "metadata": {},
   "source": [
    "The accuracy of my model should be high, I think 80% is good. If the accuracy is too low, the tv channel will lose money because of the odds-setting. The true positive rate should also as high as possible, maybe 80%. The false positive rate should be low in order to avoid high odds on the athlete who has a low chance to get a medal. I think 10% of false positive is good. I do not really know how to set odds, leave it to professional people. My task is classified(prediction) athlete to different medal or no medal. \n",
    "\n",
    "This model does not need to run so fast, because the sports channel can get the athlete data before the event. But it needs to be accuracy. "
   ]
  },
  {
   "cell_type": "markdown",
   "metadata": {},
   "source": [
    "# Data Description"
   ]
  },
  {
   "cell_type": "code",
   "execution_count": 599,
   "metadata": {},
   "outputs": [
    {
     "name": "stdout",
     "output_type": "stream",
     "text": [
      "Pandas: 0.23.4\n",
      "Numpy: 1.15.4\n"
     ]
    },
    {
     "data": {
      "text/html": [
       "<div>\n",
       "<style scoped>\n",
       "    .dataframe tbody tr th:only-of-type {\n",
       "        vertical-align: middle;\n",
       "    }\n",
       "\n",
       "    .dataframe tbody tr th {\n",
       "        vertical-align: top;\n",
       "    }\n",
       "\n",
       "    .dataframe thead th {\n",
       "        text-align: right;\n",
       "    }\n",
       "</style>\n",
       "<table border=\"1\" class=\"dataframe\">\n",
       "  <thead>\n",
       "    <tr style=\"text-align: right;\">\n",
       "      <th></th>\n",
       "      <th>ID</th>\n",
       "      <th>name</th>\n",
       "      <th>Sex</th>\n",
       "      <th>Age</th>\n",
       "      <th>Height</th>\n",
       "      <th>Weight</th>\n",
       "      <th>NOC</th>\n",
       "      <th>Year</th>\n",
       "      <th>Season</th>\n",
       "      <th>City</th>\n",
       "      <th>Sport</th>\n",
       "      <th>Medal</th>\n",
       "    </tr>\n",
       "  </thead>\n",
       "  <tbody>\n",
       "    <tr>\n",
       "      <th>0</th>\n",
       "      <td>6</td>\n",
       "      <td>Per Knut Aaland</td>\n",
       "      <td>1</td>\n",
       "      <td>31</td>\n",
       "      <td>188</td>\n",
       "      <td>75.0</td>\n",
       "      <td>USA</td>\n",
       "      <td>1992</td>\n",
       "      <td>Winter</td>\n",
       "      <td>Albertville</td>\n",
       "      <td>Cross Country Skiing</td>\n",
       "      <td>0</td>\n",
       "    </tr>\n",
       "    <tr>\n",
       "      <th>1</th>\n",
       "      <td>6</td>\n",
       "      <td>Per Knut Aaland</td>\n",
       "      <td>1</td>\n",
       "      <td>31</td>\n",
       "      <td>188</td>\n",
       "      <td>75.0</td>\n",
       "      <td>USA</td>\n",
       "      <td>1992</td>\n",
       "      <td>Winter</td>\n",
       "      <td>Albertville</td>\n",
       "      <td>Cross Country Skiing</td>\n",
       "      <td>0</td>\n",
       "    </tr>\n",
       "    <tr>\n",
       "      <th>2</th>\n",
       "      <td>6</td>\n",
       "      <td>Per Knut Aaland</td>\n",
       "      <td>1</td>\n",
       "      <td>31</td>\n",
       "      <td>188</td>\n",
       "      <td>75.0</td>\n",
       "      <td>USA</td>\n",
       "      <td>1992</td>\n",
       "      <td>Winter</td>\n",
       "      <td>Albertville</td>\n",
       "      <td>Cross Country Skiing</td>\n",
       "      <td>0</td>\n",
       "    </tr>\n",
       "    <tr>\n",
       "      <th>3</th>\n",
       "      <td>6</td>\n",
       "      <td>Per Knut Aaland</td>\n",
       "      <td>1</td>\n",
       "      <td>31</td>\n",
       "      <td>188</td>\n",
       "      <td>75.0</td>\n",
       "      <td>USA</td>\n",
       "      <td>1992</td>\n",
       "      <td>Winter</td>\n",
       "      <td>Albertville</td>\n",
       "      <td>Cross Country Skiing</td>\n",
       "      <td>0</td>\n",
       "    </tr>\n",
       "    <tr>\n",
       "      <th>4</th>\n",
       "      <td>6</td>\n",
       "      <td>Per Knut Aaland</td>\n",
       "      <td>1</td>\n",
       "      <td>33</td>\n",
       "      <td>188</td>\n",
       "      <td>75.0</td>\n",
       "      <td>USA</td>\n",
       "      <td>1994</td>\n",
       "      <td>Winter</td>\n",
       "      <td>Lillehammer</td>\n",
       "      <td>Cross Country Skiing</td>\n",
       "      <td>0</td>\n",
       "    </tr>\n",
       "  </tbody>\n",
       "</table>\n",
       "</div>"
      ],
      "text/plain": [
       "   ID             name  Sex  Age  Height  Weight  NOC  Year  Season  \\\n",
       "0   6  Per Knut Aaland    1   31     188    75.0  USA  1992  Winter   \n",
       "1   6  Per Knut Aaland    1   31     188    75.0  USA  1992  Winter   \n",
       "2   6  Per Knut Aaland    1   31     188    75.0  USA  1992  Winter   \n",
       "3   6  Per Knut Aaland    1   31     188    75.0  USA  1992  Winter   \n",
       "4   6  Per Knut Aaland    1   33     188    75.0  USA  1994  Winter   \n",
       "\n",
       "          City                 Sport  Medal  \n",
       "0  Albertville  Cross Country Skiing      0  \n",
       "1  Albertville  Cross Country Skiing      0  \n",
       "2  Albertville  Cross Country Skiing      0  \n",
       "3  Albertville  Cross Country Skiing      0  \n",
       "4  Lillehammer  Cross Country Skiing      0  "
      ]
     },
     "execution_count": 599,
     "metadata": {},
     "output_type": "execute_result"
    }
   ],
   "source": [
    "#https://www.kaggle.com/heesoo37/120-years-of-olympic-history-athletes-and-results\n",
    "# load the dataset\n",
    "import pandas as pd\n",
    "import numpy as np\n",
    "\n",
    "print('Pandas:', pd.__version__)\n",
    "print('Numpy:',np.__version__)\n",
    "\n",
    "dfraw = pd.read_csv('https://raw.githubusercontent.com/sy0701611/lab-3/master/athlete_events.csv',error_bad_lines=False) \n",
    "# read in the csv file,offending lines to be skipped\n",
    "dfraw.dropna(inplace=True)#drop all na value beacsue row with na is not useful\n",
    "dfraw.head() "
   ]
  },
  {
   "cell_type": "code",
   "execution_count": 600,
   "metadata": {
    "scrolled": true
   },
   "outputs": [
    {
     "name": "stdout",
     "output_type": "stream",
     "text": [
      "===========\n",
      "<class 'pandas.core.frame.DataFrame'>\n",
      "Int64Index: 14214 entries, 0 to 14213\n",
      "Data columns (total 12 columns):\n",
      "ID        14214 non-null int64\n",
      "name      14214 non-null object\n",
      "Sex       14214 non-null int64\n",
      "Age       14214 non-null int64\n",
      "Height    14214 non-null int64\n",
      "Weight    14214 non-null float64\n",
      "NOC       14214 non-null object\n",
      "Year      14214 non-null int64\n",
      "Season    14214 non-null object\n",
      "City      14214 non-null object\n",
      "Sport     14214 non-null object\n",
      "Medal     14214 non-null int64\n",
      "dtypes: float64(1), int64(6), object(5)\n",
      "memory usage: 1.4+ MB\n",
      "None\n"
     ]
    }
   ],
   "source": [
    "#general information about the raw dataset.\n",
    "print('===========')\n",
    "print(dfraw.info())"
   ]
  },
  {
   "cell_type": "markdown",
   "metadata": {},
   "source": [
    "I drop ID becasue ID here is meaningless, can not help with classification. NOC is drpped because it is all USA. Also the name is useless. The year is also not helpful, because this is not time serise problem, we can treat each year as a individual event and last year event will not effect the next year."
   ]
  },
  {
   "cell_type": "code",
   "execution_count": 601,
   "metadata": {},
   "outputs": [
    {
     "name": "stdout",
     "output_type": "stream",
     "text": [
      "<class 'pandas.core.frame.DataFrame'>\n",
      "Int64Index: 14214 entries, 0 to 14213\n",
      "Data columns (total 8 columns):\n",
      "Sex           14214 non-null int64\n",
      "Age           14214 non-null int64\n",
      "Height        14214 non-null int64\n",
      "Weight        14214 non-null float64\n",
      "Medal         14214 non-null int64\n",
      "Citycode      14214 non-null int8\n",
      "Sportcode     14214 non-null int8\n",
      "Seasoncode    14214 non-null int8\n",
      "dtypes: float64(1), int64(4), int8(3)\n",
      "memory usage: 707.9 KB\n",
      "None\n"
     ]
    },
    {
     "name": "stderr",
     "output_type": "stream",
     "text": [
      "D:\\APP\\Anaconda3\\lib\\site-packages\\pandas\\core\\generic.py:4405: SettingWithCopyWarning: \n",
      "A value is trying to be set on a copy of a slice from a DataFrame.\n",
      "Try using .loc[row_indexer,col_indexer] = value instead\n",
      "\n",
      "See the caveats in the documentation: http://pandas.pydata.org/pandas-docs/stable/indexing.html#indexing-view-versus-copy\n",
      "  self[name] = value\n",
      "D:\\APP\\Anaconda3\\lib\\site-packages\\ipykernel_launcher.py:5: SettingWithCopyWarning: \n",
      "A value is trying to be set on a copy of a slice from a DataFrame.\n",
      "Try using .loc[row_indexer,col_indexer] = value instead\n",
      "\n",
      "See the caveats in the documentation: http://pandas.pydata.org/pandas-docs/stable/indexing.html#indexing-view-versus-copy\n",
      "  \"\"\"\n",
      "D:\\APP\\Anaconda3\\lib\\site-packages\\ipykernel_launcher.py:7: SettingWithCopyWarning: \n",
      "A value is trying to be set on a copy of a slice from a DataFrame.\n",
      "Try using .loc[row_indexer,col_indexer] = value instead\n",
      "\n",
      "See the caveats in the documentation: http://pandas.pydata.org/pandas-docs/stable/indexing.html#indexing-view-versus-copy\n",
      "  import sys\n",
      "D:\\APP\\Anaconda3\\lib\\site-packages\\ipykernel_launcher.py:9: SettingWithCopyWarning: \n",
      "A value is trying to be set on a copy of a slice from a DataFrame.\n",
      "Try using .loc[row_indexer,col_indexer] = value instead\n",
      "\n",
      "See the caveats in the documentation: http://pandas.pydata.org/pandas-docs/stable/indexing.html#indexing-view-versus-copy\n",
      "  if __name__ == '__main__':\n"
     ]
    }
   ],
   "source": [
    "# data type and information\n",
    "# subset i am interested\n",
    "#change category variable to numeric, and drop the old variables\n",
    "df = dfraw[['Sex','Age','Height','Weight','Season','Sport','Medal','City']]\n",
    "df.City = pd.Categorical(df.City)\n",
    "df['Citycode'] = df.City.cat.codes\n",
    "df.Sport = pd.Categorical(df.Sport)\n",
    "df['Sportcode'] = df.Sport.cat.codes\n",
    "df.Season = pd.Categorical(df.Season)\n",
    "df['Seasoncode'] = df.Season.cat.codes\n",
    "df = df.drop(\"Season\", axis=1)\n",
    "df = df.drop(\"Sport\", axis=1)\n",
    "df = df.drop(\"City\", axis=1)\n",
    "print(df.info())"
   ]
  },
  {
   "cell_type": "markdown",
   "metadata": {},
   "source": [
    "The new variable I created is just convert category variables to numeric. Which is city, sport and season. Numeric variable will be easy to analysis in our model."
   ]
  },
  {
   "cell_type": "code",
   "execution_count": 602,
   "metadata": {},
   "outputs": [
    {
     "data": {
      "text/plain": [
       "3023"
      ]
     },
     "execution_count": 602,
     "metadata": {},
     "output_type": "execute_result"
    }
   ],
   "source": [
    "# find the duplicate \n",
    "idx = df.duplicated()\n",
    "len(df[idx])"
   ]
  },
  {
   "cell_type": "markdown",
   "metadata": {},
   "source": [
    "Do not drop duplicate value becasue in sport, player's weight and other parameter are similar. Also some player can join mutiple events in one Olympics. So duplicate value can not be dropped."
   ]
  },
  {
   "cell_type": "code",
   "execution_count": 603,
   "metadata": {},
   "outputs": [
    {
     "data": {
      "text/plain": [
       "<matplotlib.axes._subplots.AxesSubplot at 0x1cf920732b0>"
      ]
     },
     "execution_count": 603,
     "metadata": {},
     "output_type": "execute_result"
    },
    {
     "data": {
      "image/png": "[encoded data removed]",
      "text/plain": [
       "<Figure size 1800x720 with 2 Axes>"
      ]
     },
     "metadata": {
      "needs_background": "light"
     },
     "output_type": "display_data"
    }
   ],
   "source": [
    "# plot missing variable\n",
    "import matplotlib\n",
    "import matplotlib.pyplot as plt\n",
    "import warnings\n",
    "warnings.simplefilter('ignore', DeprecationWarning)\n",
    "%matplotlib inline \n",
    "\n",
    "import missingno as mn\n",
    "\n",
    "mn.matrix(df.sort_values(by=[\"Citycode\",]))"
   ]
  },
  {
   "cell_type": "markdown",
   "metadata": {},
   "source": [
    "No missing value which is good, we already drop them at the beginning."
   ]
  },
  {
   "cell_type": "code",
   "execution_count": 605,
   "metadata": {},
   "outputs": [
    {
     "name": "stdout",
     "output_type": "stream",
     "text": [
      "Sex             int64\n",
      "Age             int64\n",
      "Height          int64\n",
      "Weight        float64\n",
      "Medal           int64\n",
      "Citycode         int8\n",
      "Sportcode        int8\n",
      "Seasoncode       int8\n",
      "dtype: object\n",
      "===========\n",
      "<class 'pandas.core.frame.DataFrame'>\n",
      "Int64Index: 14214 entries, 0 to 14213\n",
      "Data columns (total 8 columns):\n",
      "Sex           14214 non-null int64\n",
      "Age           14214 non-null int64\n",
      "Height        14214 non-null int64\n",
      "Weight        14214 non-null float64\n",
      "Medal         14214 non-null int64\n",
      "Citycode      14214 non-null int8\n",
      "Sportcode     14214 non-null int8\n",
      "Seasoncode    14214 non-null int8\n",
      "dtypes: float64(1), int64(4), int8(3)\n",
      "memory usage: 707.9 KB\n",
      "None\n"
     ]
    },
    {
     "data": {
      "text/html": [
       "<div>\n",
       "<style scoped>\n",
       "    .dataframe tbody tr th:only-of-type {\n",
       "        vertical-align: middle;\n",
       "    }\n",
       "\n",
       "    .dataframe tbody tr th {\n",
       "        vertical-align: top;\n",
       "    }\n",
       "\n",
       "    .dataframe thead th {\n",
       "        text-align: right;\n",
       "    }\n",
       "</style>\n",
       "<table border=\"1\" class=\"dataframe\">\n",
       "  <thead>\n",
       "    <tr style=\"text-align: right;\">\n",
       "      <th></th>\n",
       "      <th>Sex</th>\n",
       "      <th>Age</th>\n",
       "      <th>Height</th>\n",
       "      <th>Weight</th>\n",
       "      <th>Medal</th>\n",
       "      <th>Citycode</th>\n",
       "      <th>Sportcode</th>\n",
       "      <th>Seasoncode</th>\n",
       "    </tr>\n",
       "  </thead>\n",
       "  <tbody>\n",
       "    <tr>\n",
       "      <th>0</th>\n",
       "      <td>1</td>\n",
       "      <td>31</td>\n",
       "      <td>188</td>\n",
       "      <td>75.0</td>\n",
       "      <td>0</td>\n",
       "      <td>0</td>\n",
       "      <td>12</td>\n",
       "      <td>1</td>\n",
       "    </tr>\n",
       "    <tr>\n",
       "      <th>1</th>\n",
       "      <td>1</td>\n",
       "      <td>31</td>\n",
       "      <td>188</td>\n",
       "      <td>75.0</td>\n",
       "      <td>0</td>\n",
       "      <td>0</td>\n",
       "      <td>12</td>\n",
       "      <td>1</td>\n",
       "    </tr>\n",
       "    <tr>\n",
       "      <th>2</th>\n",
       "      <td>1</td>\n",
       "      <td>31</td>\n",
       "      <td>188</td>\n",
       "      <td>75.0</td>\n",
       "      <td>0</td>\n",
       "      <td>0</td>\n",
       "      <td>12</td>\n",
       "      <td>1</td>\n",
       "    </tr>\n",
       "    <tr>\n",
       "      <th>3</th>\n",
       "      <td>1</td>\n",
       "      <td>31</td>\n",
       "      <td>188</td>\n",
       "      <td>75.0</td>\n",
       "      <td>0</td>\n",
       "      <td>0</td>\n",
       "      <td>12</td>\n",
       "      <td>1</td>\n",
       "    </tr>\n",
       "    <tr>\n",
       "      <th>4</th>\n",
       "      <td>1</td>\n",
       "      <td>33</td>\n",
       "      <td>188</td>\n",
       "      <td>75.0</td>\n",
       "      <td>0</td>\n",
       "      <td>16</td>\n",
       "      <td>12</td>\n",
       "      <td>1</td>\n",
       "    </tr>\n",
       "  </tbody>\n",
       "</table>\n",
       "</div>"
      ],
      "text/plain": [
       "   Sex  Age  Height  Weight  Medal  Citycode  Sportcode  Seasoncode\n",
       "0    1   31     188    75.0      0         0         12           1\n",
       "1    1   31     188    75.0      0         0         12           1\n",
       "2    1   31     188    75.0      0         0         12           1\n",
       "3    1   31     188    75.0      0         0         12           1\n",
       "4    1   33     188    75.0      0        16         12           1"
      ]
     },
     "execution_count": 605,
     "metadata": {},
     "output_type": "execute_result"
    }
   ],
   "source": [
    "print(df.dtypes)\n",
    "print('===========')\n",
    "print(df.info())\n",
    "df.head() "
   ]
  },
  {
   "cell_type": "code",
   "execution_count": 629,
   "metadata": {},
   "outputs": [
    {
     "data": {
      "image/png": "[encoded data removed]",
      "text/plain": [
       "<Figure size 720x360 with 1 Axes>"
      ]
     },
     "metadata": {},
     "output_type": "display_data"
    }
   ],
   "source": [
    "plt.style.use('ggplot')\n",
    "\n",
    "plt.figure(figsize=(10,5))\n",
    "dfraw['Medal'].value_counts(sort=True,ascending=True).plot(kind='barh')\n",
    "plt.title('Distribution of Medals')\n",
    "\n",
    "plt.show()"
   ]
  },
  {
   "cell_type": "markdown",
   "metadata": {},
   "source": [
    "Gold (3), Silver(2), Bronze(1), or No(0)\n",
    "\n",
    "We can see that for the most of time, athlete will not get medal. USA team get more gold than other medal is really impressive."
   ]
  },
  {
   "cell_type": "markdown",
   "metadata": {},
   "source": [
    "# Splite training and testing set"
   ]
  },
  {
   "cell_type": "code",
   "execution_count": 606,
   "metadata": {},
   "outputs": [
    {
     "name": "stderr",
     "output_type": "stream",
     "text": [
      "D:\\APP\\Anaconda3\\lib\\site-packages\\ipykernel_launcher.py:3: FutureWarning: Method .as_matrix will be removed in a future version. Use .values instead.\n",
      "  This is separate from the ipykernel package so we can avoid doing imports until\n",
      "D:\\APP\\Anaconda3\\lib\\site-packages\\ipykernel_launcher.py:4: FutureWarning: Method .as_matrix will be removed in a future version. Use .values instead.\n",
      "  after removing the cwd from sys.path.\n"
     ]
    }
   ],
   "source": [
    "from sklearn.model_selection import train_test_split\n",
    "\n",
    "X = df.drop(\"Medal\", axis=1).as_matrix()\n",
    "y = df[\"Medal\"].as_matrix()\n",
    "X_train, X_test, y_train, y_test = train_test_split(X, y, test_size=0.2)\n"
   ]
  },
  {
   "cell_type": "markdown",
   "metadata": {},
   "source": [
    "I think 80/20 splite is appropriate for my dataset. My dataset contain over 14 thousand rows. Even we ramdomly splite, training set and testing will contain enough information. The testing set have 3000 rows which is not too small. If my dataset is small, testing set will be too small, so 80/20 is not appropriate for small dataset."
   ]
  },
  {
   "cell_type": "markdown",
   "metadata": {},
   "source": [
    "# Modeling"
   ]
  },
  {
   "cell_type": "code",
   "execution_count": 607,
   "metadata": {},
   "outputs": [],
   "source": [
    "#https://github.com/maykulkarni/Machine-Learning-Notebooks/tree/master/03.%20Classification\n",
    "#https://github.com/Thakugan/machine-learning-notebooks\n",
    "#both source give me idea of how to construct \n",
    "import pandas as pd\n",
    "import numpy as np\n",
    "from scipy.special import expit\n",
    "from numpy import seterr\n",
    "from sklearn.metrics import accuracy_score\n",
    "from numpy.linalg import pinv\n",
    "\n",
    "class BinaryLogisticRegressionBase:\n",
    "    # private:\n",
    "    def __init__(self, eta, iterations=20):\n",
    "        self.eta = eta\n",
    "        self.iters = iterations\n",
    "        # internally we will store the weights as self.w_ to keep with sklearn conventions\n",
    "    \n",
    "    def __str__(self):\n",
    "        return 'Base Binary Logistic Regression Object, Not Trainable'\n",
    "    \n",
    "    # convenience, private and static:\n",
    "    @staticmethod\n",
    "    def _sigmoid(theta):\n",
    "        return 1/(1+np.exp(-theta)) \n",
    "    \n",
    "    @staticmethod\n",
    "    def _add_bias(X):\n",
    "        return np.hstack((np.ones((X.shape[0],1)),X)) # add bias term\n",
    "    \n",
    "    # public:\n",
    "    def predict_proba(self,X,add_bias=True):\n",
    "        # add bias term if requested\n",
    "        Xb = self._add_bias(X) if add_bias else X\n",
    "        return self._sigmoid(Xb @ self.w_) # return the probability y=1\n",
    "    \n",
    "    def predict(self,X):\n",
    "        return (self.predict_proba(X)>0.5) #return the actual prediction\n",
    "# inherit from base class\n",
    "class BinaryLogisticRegression(BinaryLogisticRegressionBase):\n",
    "    #private:\n",
    "    def __str__(self):\n",
    "        if(hasattr(self,'w_')):\n",
    "            return 'Binary Logistic Regression Object with coefficients:\\n'+ str(self.w_) # is we have trained the object\n",
    "        else:\n",
    "            return 'Untrained Binary Logistic Regression Object'\n",
    "        \n",
    "    def _get_gradient(self,X,y):\n",
    "        # programming \\sum_i (yi-g(xi))xi\n",
    "        gradient = np.zeros(self.w_.shape) # set gradient to zero\n",
    "        for (xi,yi) in zip(X,y):\n",
    "            # the actual update inside of sum\n",
    "            gradi = (yi - self.predict_proba(xi,add_bias=False))*xi \n",
    "            # reshape to be column vector and add to gradient\n",
    "            gradient += gradi.reshape(self.w_.shape) \n",
    "        \n",
    "        return gradient/float(len(y))\n",
    "       \n",
    "    # public:\n",
    "    def fit(self, X, y):\n",
    "        Xb = self._add_bias(X) # add bias term\n",
    "        num_samples, num_features = Xb.shape\n",
    "        \n",
    "        self.w_ = np.zeros((num_features,1)) # init weight vector to zeros\n",
    "        \n",
    "        # for as many as the max iterations\n",
    "        for _ in range(self.iters):\n",
    "            gradient = self._get_gradient(Xb,y)\n",
    "            self.w_ += gradient*self.eta # multiply by learning rate \n",
    "\n",
    "# now lets do some vectorized coding\n",
    "import numpy as np\n",
    "from scipy.special import expit\n",
    "\n",
    "class VectorBinaryLogisticRegression(BinaryLogisticRegression):\n",
    "    # inherit from our previous class to get same functionality\n",
    "    @staticmethod\n",
    "    def _sigmoid(theta):\n",
    "        # increase stability, redefine sigmoid operation\n",
    "        return expit(theta) #1/(1+np.exp(-theta))\n",
    "    \n",
    "    # but overwrite the gradient calculation\n",
    "    def _get_gradient(self,X,y):\n",
    "        ydiff = y-self.predict_proba(X,add_bias=False).ravel() # get y difference\n",
    "        gradient = np.mean(X * ydiff[:,np.newaxis], axis=0) # make ydiff a column vector and multiply through\n",
    "        \n",
    "        return gradient.reshape(self.w_.shape)\n",
    "class LogisticRegression:\n",
    "    def __init__(self, eta, iterations=20):\n",
    "        self.eta = eta\n",
    "        self.iters = iterations\n",
    "        # internally we will store the weights as self.w_ to keep with sklearn conventions\n",
    "    \n",
    "    def __str__(self):\n",
    "        if(hasattr(self,'w_')):\n",
    "            return 'MultiClass Logistic Regression Object with coefficients:\\n'+ str(self.w_) # is we have trained the object\n",
    "        else:\n",
    "            return 'Untrained MultiClass Logistic Regression Object'\n",
    "        \n",
    "    def fit(self,X,y):\n",
    "        num_samples, num_features = X.shape\n",
    "        self.unique_ = np.unique(y) # get each unique class value\n",
    "        num_unique_classes = len(self.unique_)\n",
    "        self.classifiers_ = [] # will fill this array with binary classifiers\n",
    "        \n",
    "        for i,yval in enumerate(self.unique_): # for each unique value\n",
    "            y_binary = y==yval # create a binary problem\n",
    "            # train the binary classifier for this class\n",
    "            blr = VectorBinaryLogisticRegression(self.eta,self.iters)\n",
    "            blr.fit(X,y_binary)\n",
    "            # add the trained classifier to the list\n",
    "            self.classifiers_.append(blr)\n",
    "            \n",
    "        # save all the weights into one matrix, separate column for each class\n",
    "        self.w_ = np.hstack([x.w_ for x in self.classifiers_]).T\n",
    "        \n",
    "    def predict_proba(self,X):\n",
    "        probs = []\n",
    "        for blr in self.classifiers_:\n",
    "            probs.append(blr.predict_proba(X)) # get probability for each classifier\n",
    "        \n",
    "        return np.hstack(probs) # make into single matrix\n",
    "    \n",
    "    def predict(self,X):\n",
    "        return np.argmax(self.predict_proba(X),axis=1) # take argmax along row\n"
   ]
  },
  {
   "cell_type": "markdown",
   "metadata": {},
   "source": [
    "# Choose optimization technique(only show do not run)"
   ]
  },
  {
   "cell_type": "code",
   "execution_count": 47,
   "metadata": {},
   "outputs": [
    {
     "name": "stdout",
     "output_type": "stream",
     "text": [
      "Wall time: 0 ns\n"
     ]
    }
   ],
   "source": [
    "%%time\n",
    "#steepest descent\n",
    "class SteepestLogisticRegression(BinaryLogisticRegression):\n",
    "     def _get_gradient_Steepest(self,X,y):\n",
    "        ydiff = y-self.predict_proba(X,add_bias=False).ravel() # get y difference\n",
    "        gradient = np.mean(X * ydiff[:,np.newaxis], axis=0)\n",
    "        gradient = gradient.reshape(self.w_.shape) \n",
    "        \n",
    "        return gradient"
   ]
  },
  {
   "cell_type": "code",
   "execution_count": 48,
   "metadata": {},
   "outputs": [
    {
     "name": "stdout",
     "output_type": "stream",
     "text": [
      "Wall time: 0 ns\n"
     ]
    }
   ],
   "source": [
    "%%time\n",
    "#stochastic gradient\n",
    "class StochasticLogisticRegression(BinaryLogisticRegression):\n",
    "    # stochastic gradient calculation \n",
    "    def _get_gradient_Stochastic(self,X,y):\n",
    "        idx = int(np.random.rand()*len(y)) # grab random instance\n",
    "        ydiff = y[idx]-self.predict_proba(X[idx],add_bias=False) # get y difference (now scalar)\n",
    "        gradient = X[idx] * ydiff[:,np.newaxis] # make ydiff a column vector and multiply through\n",
    "        \n",
    "        gradient = gradient.reshape(self.w_.shape)\n",
    "        \n",
    "        return gradient"
   ]
  },
  {
   "cell_type": "code",
   "execution_count": 49,
   "metadata": {},
   "outputs": [
    {
     "name": "stdout",
     "output_type": "stream",
     "text": [
      "Wall time: 0 ns\n"
     ]
    }
   ],
   "source": [
    "%%time\n",
    "# Newton's method\n",
    "from numpy.linalg import pinv\n",
    "class HessianBinaryLogisticRegression(BinaryLogisticRegression):\n",
    "    # just overwrite gradient function\n",
    "    def _get_gradient_Hessian(self,X,y):\n",
    "        g = self.predict_proba(X,add_bias=False).ravel() # get sigmoid value for all classes\n",
    "        hessian = X.T @ np.diag(g*(1-g)) @ X # calculate the hessian\n",
    "\n",
    "        ydiff = y-g # get y difference\n",
    "        gradient = np.sum(X * ydiff[:,np.newaxis], axis=0) # make ydiff a column vector and multiply through\n",
    "        gradient = gradient.reshape(self.w_.shape)\n",
    "        \n",
    "        return pinv(hessian) @ gradient"
   ]
  },
  {
   "cell_type": "markdown",
   "metadata": {},
   "source": [
    "# Regulation(only show do not run)"
   ]
  },
  {
   "cell_type": "code",
   "execution_count": null,
   "metadata": {},
   "outputs": [],
   "source": [
    "#L1\n",
    "#L1 https://towardsdatascience.com/only-numpy-implementing-different-combination-of-l1-norm-l2-norm-l1-regularization-and-14b01a9773b\n",
    "class RegularizedBinaryLogisticRegression(VectorBinaryLogisticRegression):\n",
    "    # extend init functions\n",
    "    def __init__(self, C=0.0, **kwds):        \n",
    "        # need to add to the original initializer \n",
    "        self.C = C\n",
    "        # but keep other keywords\n",
    "        super().__init__(**kwds) # call parent initializer\n",
    "        \n",
    "        \n",
    "    # extend previous class to change functionality\n",
    "    def _get_gradient(self,X,y):\n",
    "        # call get gradient from previous class\n",
    "        gradient = super()._get_gradient(X,y)\n",
    "        \n",
    "        # add in regularization (to all except bias term)\n",
    "        #derivative of |x| is X/|X| which is the sign of X, so we can direct use np.sign\n",
    "        gradient[1:] += np.sign(self.w_[1:])* self.C\n",
    "        return gradient"
   ]
  },
  {
   "cell_type": "code",
   "execution_count": 51,
   "metadata": {},
   "outputs": [],
   "source": [
    "#L2\n",
    "class RegularizedBinaryLogisticRegression(VectorBinaryLogisticRegression):\n",
    "    # extend init functions\n",
    "    def __init__(self, C=0.0, **kwds):        \n",
    "        # need to add to the original initializer \n",
    "        self.C = C\n",
    "        # but keep other keywords\n",
    "        super().__init__(**kwds) # call parent initializer\n",
    "        \n",
    "        \n",
    "    # extend previous class to change functionality\n",
    "    def _get_gradient(self,X,y):\n",
    "        # call get gradient from previous class\n",
    "        gradient = super()._get_gradient(X,y)\n",
    "        \n",
    "        # add in regularization (to all except bias term)\n",
    "        gradient[1:] += -2 * self.w_[1:] * self.C\n",
    "        return gradient"
   ]
  },
  {
   "cell_type": "code",
   "execution_count": 52,
   "metadata": {},
   "outputs": [],
   "source": [
    "#L1L2\n",
    "class RegularizedBinaryLogisticRegression(VectorBinaryLogisticRegression):\n",
    "    # extend init functions\n",
    "    def __init__(self, C=0.0, **kwds):        \n",
    "        # need to add to the original initializer \n",
    "        self.C = C\n",
    "        # but keep other keywords\n",
    "        super().__init__(**kwds) # call parent initializer\n",
    "        \n",
    "        \n",
    "    # extend previous class to change functionality\n",
    "    def _get_gradient(self,X,y):\n",
    "        # call get gradient from previous class\n",
    "        gradient = super()._get_gradient(X,y)\n",
    "        \n",
    "        # add in regularization (to all except bias term)\n",
    "        gradient[1:] += (-2 * self.w_[1:] * self.C) + (np.sign(self.w_[1:]) * self.C)\n",
    "        return gradient"
   ]
  },
  {
   "cell_type": "markdown",
   "metadata": {},
   "source": [
    "# Overall(start running here)"
   ]
  },
  {
   "cell_type": "code",
   "execution_count": 608,
   "metadata": {},
   "outputs": [],
   "source": [
    "from numpy import seterr\n",
    "from sklearn.metrics import accuracy_score\n",
    "from numpy.linalg import pinv\n",
    "\n",
    "np.seterr(over='print')\n",
    "\n",
    "class MethodRegulationBinaryLogisticRegression(BinaryLogisticRegression):     \n",
    "    def __init__(self, method=\"Steepest\", C=0.1, regulation=\"L1\", eta=0.1, **kwads):\n",
    "        self.method = method\n",
    "        self.C = C\n",
    "        self.regulation = regulation\n",
    "        self.eta=eta\n",
    "        super().__init__(eta=eta,**kwads)# call parent initializer\n",
    "\n",
    "    \n",
    "    def _get_gradient_Steepest(self,X,y):\n",
    "        ydiff = y-self.predict_proba(X,add_bias=False).ravel() # get y difference\n",
    "        gradient = np.mean(X * ydiff[:,np.newaxis], axis=0)\n",
    "        gradient = gradient.reshape(self.w_.shape) \n",
    "    \n",
    "        return gradient\n",
    "    \n",
    "    def _get_gradient_Stochastic(self,X,y):\n",
    "        idx = int(np.random.rand()*len(y)) # grab random instance\n",
    "        ydiff = y[idx]-self.predict_proba(X[idx],add_bias=False) # get y difference (now scalar)\n",
    "        gradient = X[idx] * ydiff[:,np.newaxis] # make ydiff a column vector and multiply through\n",
    "        gradient = gradient.reshape(self.w_.shape)\n",
    "        \n",
    "        return gradient\n",
    "    \n",
    "    def _get_gradient_Newton(self,X,y):\n",
    "        g = self.predict_proba(X,add_bias=False).ravel() # get sigmoid value for all classes\n",
    "        hessian = X.T @ np.diag(g*(1-g)) @ X# calculate the hessian\n",
    "        #here i delete the regulation term because we will use different way of regulation\n",
    "        #also base on the hessian calculation pdf, there is no regulation in original calculation\n",
    "\n",
    "        ydiff = y-g # get y difference\n",
    "        gradient = np.sum(X * ydiff[:,np.newaxis], axis=0) # make ydiff a column vector and multiply through\n",
    "        gradient = gradient.reshape(self.w_.shape)\n",
    "        \n",
    "        return pinv(hessian) @ gradient\n",
    "\n",
    "#https://medium.com/@martinpella/logistic-regression-from-scratch-in-python-124c5636b8ac\n",
    "#this give me the idea of how I can select different method\n",
    "#  def fit(self, X, y):\n",
    "#        if self.fit_intercept:\n",
    "#           X = self.__add_intercept(X)\n",
    "            \n",
    "    def _get_gradient(self, X, y):# method selection using if, we can upgrade the gradient by using different technique,\n",
    "        if self.method == \"Steepest\":# if the keyword match the technique, then the gradient will equal to the technique way to calculate it\n",
    "            gradient = self._get_gradient_Steepest(X, y)\n",
    "        elif self.method == \"Stochastic\":\n",
    "            gradient = self._get_gradient_Stochastic(X, y)\n",
    "        elif self.method == \"Newton\":\n",
    "            gradient = self._get_gradient_Newton(X, y)\n",
    "        else:\n",
    "            return\n",
    "        #regulation selection using if by add regulation term after the gradient function\n",
    "        if self.regulation == \"L1\":# we will upgrade the gradient by adding regulation term to it. this is also key word matching\n",
    "            gradient[1:] += np.sign(self.w_[1:]) * self.C  \n",
    "        #derivative of |x| is X/|X| which is the sign of X, so we can direct use np.sign    \n",
    "        elif self.regulation == \"L2\":\n",
    "            gradient[1:] += -2 * self.w_[1:] * self.C  \n",
    "        elif self.regulation == \"L1L2\":\n",
    "            #L1L2 is L1 + L2 \n",
    "            gradient[1:] += ((-2 * self.w_[1:] * self.C) + (np.sign(self.w_[1:]) * self.C)) \n",
    "        elif self.regulation == \"none\":\n",
    "            #for none regulation, we will keep the gradient the same\n",
    "            gradient = gradient\n",
    "        else:\n",
    "            pass\n",
    "                \n",
    "        return gradient\n",
    "       \n",
    "  "
   ]
  },
  {
   "cell_type": "code",
   "execution_count": 609,
   "metadata": {},
   "outputs": [],
   "source": [
    "class RegularizedMethodLogisticRegression(LogisticRegression):\n",
    "    def __init__(self, method=\"Newton\", C=0.1, regulation=\"L1\", eta=0.1, iters=100,**kwads):\n",
    "        self.method = method\n",
    "        self.C = C\n",
    "        self.regulation = regulation\n",
    "        self.eta=eta\n",
    "        self.iters = iters\n",
    "        super().__init__(eta=eta,**kwads)# call parent initializer\n",
    "\n",
    "    \n",
    "    def __str__(self):\n",
    "        if(hasattr(self,'w_')):\n",
    "            return 'MultiClass Logistic Regression Object with coefficients:\\n'+ str(self.w_) # is we have trained the object\n",
    "        else:\n",
    "            return 'Untrained MultiClass Logistic Regression Object'\n",
    "        \n",
    "    def fit(self,X,y):\n",
    "        num_samples, num_features = X.shape\n",
    "        self.unique_ = np.unique(y) # get each unique class value\n",
    "        num_unique_classes = len(self.unique_)\n",
    "        self.classifiers_ = [] # will fill this array with binary classifiers\n",
    "        \n",
    "        for i,yval in enumerate(self.unique_): # for each unique value\n",
    "            y_binary = y==yval # create a binary problem\n",
    "            # train the binary classifier for this class\n",
    "            blr = MethodRegulationBinaryLogisticRegression(eta=self.eta,\n",
    "                                                      iterations=self.iters,\n",
    "                                                      regulation=self.regulation,\n",
    "                                                      method=self.method, \n",
    "                                                      C=self.C)\n",
    "            blr.fit(X,y_binary)\n",
    "            # add the trained classifier to the list\n",
    "            self.classifiers_.append(blr)\n",
    "            \n",
    "        # save all the weights into one matrix, separate column for each class\n",
    "        self.w_ = np.hstack([x.w_ for x in self.classifiers_]).T\n",
    "        \n",
    "    def predict_proba(self,X):\n",
    "        probs = []\n",
    "        for blr in self.classifiers_:\n",
    "            probs.append(blr.predict_proba(X)) # get probability for each classifier\n",
    "        \n",
    "        return np.hstack(probs) # make into single matrix\n",
    "    \n",
    "    def predict(self,X):\n",
    "        return np.argmax(self.predict_proba(X),axis=1) # take argmax along row\n"
   ]
  },
  {
   "cell_type": "markdown",
   "metadata": {},
   "source": [
    "# Testing set result for each method and regulation"
   ]
  },
  {
   "cell_type": "code",
   "execution_count": 610,
   "metadata": {},
   "outputs": [],
   "source": [
    "from sklearn.metrics import accuracy_score\n",
    "import matplotlib.pyplot as plt"
   ]
  },
  {
   "cell_type": "markdown",
   "metadata": {},
   "source": [
    "# Steepest"
   ]
  },
  {
   "cell_type": "code",
   "execution_count": 516,
   "metadata": {},
   "outputs": [
    {
     "name": "stdout",
     "output_type": "stream",
     "text": [
      "Accuracy of:  0.6992613436510728\n",
      "Wall time: 114 ms\n"
     ]
    }
   ],
   "source": [
    "%%time\n",
    "\n",
    "params = dict(method=\"Steepest\", C=0.1, regulation=\"L1\", eta=0.1, iters=100)\n",
    "lr = RegularizedMethodLogisticRegression(**params)\n",
    "lr.fit(X_train,y_train)\n",
    "\n",
    "yhat = lr.predict(X_test)\n",
    "print('Accuracy of: ',accuracy_score(y_test,yhat))"
   ]
  },
  {
   "cell_type": "code",
   "execution_count": 517,
   "metadata": {},
   "outputs": [
    {
     "name": "stdout",
     "output_type": "stream",
     "text": [
      "Accuracy of:  0.06225817798100598\n",
      "Wall time: 116 ms\n"
     ]
    }
   ],
   "source": [
    "%%time\n",
    "\n",
    "params = dict(method=\"Steepest\", C=0.1, regulation=\"L2\", eta=0.1, iters=100)\n",
    "lr = RegularizedMethodLogisticRegression(**params)\n",
    "lr.fit(X_train,y_train)\n",
    "\n",
    "yhat = lr.predict(X_test)\n",
    "print('Accuracy of: ',accuracy_score(y_test,yhat))"
   ]
  },
  {
   "cell_type": "code",
   "execution_count": 518,
   "metadata": {},
   "outputs": [
    {
     "name": "stdout",
     "output_type": "stream",
     "text": [
      "Accuracy of:  0.06225817798100598\n",
      "Wall time: 116 ms\n"
     ]
    }
   ],
   "source": [
    "%%time\n",
    "\n",
    "params = dict(method=\"Steepest\", C=0.1, regulation=\"L1L2\", eta=0.1, iters=100)\n",
    "lr = RegularizedMethodLogisticRegression(**params)\n",
    "lr.fit(X_train,y_train)\n",
    "\n",
    "yhat = lr.predict(X_test)\n",
    "print('Accuracy of: ',accuracy_score(y_test,yhat))"
   ]
  },
  {
   "cell_type": "code",
   "execution_count": 519,
   "metadata": {},
   "outputs": [
    {
     "name": "stdout",
     "output_type": "stream",
     "text": [
      "Accuracy of:  0.6992613436510728\n",
      "Wall time: 117 ms\n"
     ]
    }
   ],
   "source": [
    "%%time\n",
    "\n",
    "params = dict(method=\"Steepest\", C=0.1, regulation=\"none\", eta=0.1, iters=100)\n",
    "lr = RegularizedMethodLogisticRegression(**params)\n",
    "lr.fit(X_train,y_train)\n",
    "\n",
    "yhat = lr.predict(X_test)\n",
    "print('Accuracy of: ',accuracy_score(y_test,yhat))"
   ]
  },
  {
   "cell_type": "markdown",
   "metadata": {},
   "source": [
    "# Stochastic "
   ]
  },
  {
   "cell_type": "code",
   "execution_count": 520,
   "metadata": {},
   "outputs": [
    {
     "name": "stdout",
     "output_type": "stream",
     "text": [
      "Accuracy of:  0.15546957439324657\n",
      "Wall time: 3.97 ms\n"
     ]
    }
   ],
   "source": [
    "%%time\n",
    "\n",
    "params = dict(method=\"Stochastic\", C=0.1, regulation=\"L1\", eta=0.1, iters=100)\n",
    "lr = RegularizedMethodLogisticRegression(**params)\n",
    "lr.fit(X_train,y_train)\n",
    "\n",
    "yhat = lr.predict(X_test)\n",
    "print('Accuracy of: ',accuracy_score(y_test,yhat))"
   ]
  },
  {
   "cell_type": "code",
   "execution_count": 521,
   "metadata": {},
   "outputs": [
    {
     "name": "stdout",
     "output_type": "stream",
     "text": [
      "Accuracy of:  0.06225817798100598\n",
      "Wall time: 3.57 ms\n"
     ]
    }
   ],
   "source": [
    "%%time\n",
    "\n",
    "params = dict(method=\"Stochastic\", C=0.1, regulation=\"L2\", eta=0.1, iters=100)\n",
    "lr = RegularizedMethodLogisticRegression(**params)\n",
    "lr.fit(X_train,y_train)\n",
    "\n",
    "yhat = lr.predict(X_test)\n",
    "print('Accuracy of: ',accuracy_score(y_test,yhat))"
   ]
  },
  {
   "cell_type": "code",
   "execution_count": 527,
   "metadata": {},
   "outputs": [
    {
     "name": "stdout",
     "output_type": "stream",
     "text": [
      "Accuracy of:  0.08301090397467464\n",
      "Wall time: 3.97 ms\n"
     ]
    }
   ],
   "source": [
    "%%time\n",
    "\n",
    "params = dict(method=\"Stochastic\", C=0.1, regulation=\"L1L2\", eta=0.1, iters=100)\n",
    "lr = RegularizedMethodLogisticRegression(**params)\n",
    "lr.fit(X_train,y_train)\n",
    "\n",
    "yhat = lr.predict(X_test)\n",
    "print('Accuracy of: ',accuracy_score(y_test,yhat))"
   ]
  },
  {
   "cell_type": "code",
   "execution_count": 526,
   "metadata": {},
   "outputs": [
    {
     "name": "stdout",
     "output_type": "stream",
     "text": [
      "Accuracy of:  0.6992613436510728\n",
      "Wall time: 2.98 ms\n"
     ]
    }
   ],
   "source": [
    "%%time\n",
    "\n",
    "params = dict(method=\"Stochastic\", C=0.1, regulation=\"none\", eta=0.1, iters=100)\n",
    "lr = RegularizedMethodLogisticRegression(**params)\n",
    "lr.fit(X_train,y_train)\n",
    "\n",
    "yhat = lr.predict(X_test)\n",
    "print('Accuracy of: ',accuracy_score(y_test,yhat))"
   ]
  },
  {
   "cell_type": "markdown",
   "metadata": {},
   "source": [
    "# Newton"
   ]
  },
  {
   "cell_type": "code",
   "execution_count": 553,
   "metadata": {},
   "outputs": [
    {
     "name": "stdout",
     "output_type": "stream",
     "text": [
      "Accuracy of:  0.15828350334154062\n",
      "Wall time: 13.8 s\n"
     ]
    }
   ],
   "source": [
    "%%time\n",
    "\n",
    "params = dict(method=\"Newton\", C=0.1, regulation=\"L1\", eta=0.1, iters=100)\n",
    "lr = RegularizedMethodLogisticRegression(**params)\n",
    "lr.fit(X_train,y_train)\n",
    "\n",
    "yhat = lr.predict(X_test)\n",
    "print('Accuracy of: ',accuracy_score(y_test,yhat))"
   ]
  },
  {
   "cell_type": "code",
   "execution_count": 554,
   "metadata": {},
   "outputs": [
    {
     "name": "stdout",
     "output_type": "stream",
     "text": [
      "Accuracy of:  0.6992613436510728\n",
      "Wall time: 13.8 s\n"
     ]
    }
   ],
   "source": [
    "%%time\n",
    "\n",
    "params = dict(method=\"Newton\", C=0.1, regulation=\"L2\", eta=0.1, iters=100)\n",
    "lr = RegularizedMethodLogisticRegression(**params)\n",
    "lr.fit(X_train,y_train)\n",
    "\n",
    "yhat = lr.predict(X_test)\n",
    "print('Accuracy of: ',accuracy_score(y_test,yhat))"
   ]
  },
  {
   "cell_type": "code",
   "execution_count": 555,
   "metadata": {},
   "outputs": [
    {
     "name": "stdout",
     "output_type": "stream",
     "text": [
      "Accuracy of:  0.15230390432641575\n",
      "Wall time: 14.1 s\n"
     ]
    }
   ],
   "source": [
    "%%time\n",
    "\n",
    "params = dict(method=\"Newton\", C=0.1, regulation=\"L1L2\", eta=0.1, iters=100)\n",
    "lr = RegularizedMethodLogisticRegression(**params)\n",
    "lr.fit(X_train,y_train)\n",
    "\n",
    "yhat = lr.predict(X_test)\n",
    "print('Accuracy of: ',accuracy_score(y_test,yhat))"
   ]
  },
  {
   "cell_type": "code",
   "execution_count": 531,
   "metadata": {},
   "outputs": [
    {
     "name": "stdout",
     "output_type": "stream",
     "text": [
      "Accuracy of:  0.6999648258881463\n",
      "Wall time: 14.8 s\n"
     ]
    }
   ],
   "source": [
    "%%time\n",
    "\n",
    "params = dict(method=\"Newton\", C=0.1, regulation=\"none\", eta=0.1, iters=100)\n",
    "lr = RegularizedMethodLogisticRegression(**params)\n",
    "lr.fit(X_train,y_train)\n",
    "\n",
    "yhat = lr.predict(X_test)\n",
    "print('Accuracy of: ',accuracy_score(y_test,yhat))"
   ]
  },
  {
   "cell_type": "markdown",
   "metadata": {},
   "source": [
    "# Find the best parameters"
   ]
  },
  {
   "cell_type": "code",
   "execution_count": 532,
   "metadata": {},
   "outputs": [
    {
     "name": "stdout",
     "output_type": "stream",
     "text": [
      "MAX Accuracy for Steepest L1 is  0.6992613436510728\n",
      "C is  0.01\n",
      "Wall time: 11 s\n"
     ]
    },
    {
     "data": {
      "image/png": "[encoded data removed]",
      "text/plain": [
       "<Figure size 504x216 with 1 Axes>"
      ]
     },
     "metadata": {
      "needs_background": "light"
     },
     "output_type": "display_data"
    }
   ],
   "source": [
    "%%time\n",
    "#Steepest L1\n",
    "C_series = np.linspace(0.01,1,100) #generate a series number of C values\n",
    "maxacc = 0\n",
    "acc=[]\n",
    "for i in C_series:\n",
    "    lr = RegularizedMethodLogisticRegression(method=\"Steepest\", C=i, regulation=\"L1\", eta=0.1, iters=100)\n",
    "    lr.fit(X_train,y_train)\n",
    "    yhat = lr.predict(X_test)\n",
    "    acc.append(accuracy_score(y_test,yhat))\n",
    "    if accuracy_score(y_test,yhat) > maxacc: #if the accuracy is larger than pivious one, it will equal to the new largest value\n",
    "        maxacc = accuracy_score(y_test,yhat) #we keep doing this until try all the c values and find out the largest accuracy and its C value\n",
    "        maxg = i   \n",
    "print('MAX Accuracy for Steepest L1 is ', maxacc)\n",
    "print('C is ',maxg)\n",
    "plt.figure(figsize=(7,3))\n",
    "plt.plot(C_series, acc)\n",
    "plt.title('Accuracy of steepest L1')"
   ]
  },
  {
   "cell_type": "code",
   "execution_count": 533,
   "metadata": {},
   "outputs": [
    {
     "name": "stdout",
     "output_type": "stream",
     "text": [
      "MAX Accuracy for Steepest L2 is  0.6992613436510728\n",
      "C is  0.01\n",
      "Wall time: 10.8 s\n"
     ]
    },
    {
     "data": {
      "image/png": "[encoded data removed]",
      "text/plain": [
       "<Figure size 504x216 with 1 Axes>"
      ]
     },
     "metadata": {
      "needs_background": "light"
     },
     "output_type": "display_data"
    }
   ],
   "source": [
    "%%time\n",
    "#Steepest L2\n",
    "C_series = np.linspace(0.01,1,100) #generate a series number of C values\n",
    "maxacc = 0\n",
    "acc=[]\n",
    "for i in C_series:\n",
    "    lr = RegularizedMethodLogisticRegression(method=\"Steepest\", C=i, regulation=\"L2\", eta=0.1, iters=100)\n",
    "    lr.fit(X_train,y_train)\n",
    "    yhat = lr.predict(X_test)\n",
    "    acc.append(accuracy_score(y_test,yhat))\n",
    "    if accuracy_score(y_test,yhat) > maxacc: #if the accuracy is larger than pivious one, it will equal to the new largest value\n",
    "        maxacc = accuracy_score(y_test,yhat) #we keep doing this until try all the c values and find out the largest accuracy and its C value\n",
    "        maxg = i\n",
    "print('MAX Accuracy for Steepest L2 is ', maxacc)\n",
    "print('C is ',maxg)\n",
    "plt.figure(figsize=(7,3))\n",
    "plt.plot(C_series, acc)\n",
    "plt.title('Accuracy of steepest L2')"
   ]
  },
  {
   "cell_type": "code",
   "execution_count": 534,
   "metadata": {},
   "outputs": [
    {
     "name": "stdout",
     "output_type": "stream",
     "text": [
      "MAX Accuracy for Steepest L1L2 is  0.6992613436510728\n",
      "C is  0.01\n",
      "Wall time: 10.6 s\n"
     ]
    },
    {
     "data": {
      "image/png": "[encoded data removed]",
      "text/plain": [
       "<Figure size 504x216 with 1 Axes>"
      ]
     },
     "metadata": {
      "needs_background": "light"
     },
     "output_type": "display_data"
    }
   ],
   "source": [
    "%%time\n",
    "#Steepest L1L2\n",
    "C_series = np.linspace(0.01,1,100) #generate a series number of C values\n",
    "maxacc = 0\n",
    "acc=[]\n",
    "for i in C_series:\n",
    "    lr = RegularizedMethodLogisticRegression(method=\"Steepest\", C=i, regulation=\"L1L2\", eta=0.1, iters=100)\n",
    "    lr.fit(X_train,y_train)\n",
    "    yhat = lr.predict(X_test)\n",
    "    acc.append(accuracy_score(y_test,yhat))\n",
    "    if accuracy_score(y_test,yhat) > maxacc: #if the accuracy is larger than pivious one, it will equal to the new largest value\n",
    "        maxacc = accuracy_score(y_test,yhat) #we keep doing this until try all the c values and find out the largest accuracy and its C value\n",
    "        maxg = i\n",
    "print('MAX Accuracy for Steepest L1L2 is ', maxacc)\n",
    "print('C is ',maxg)\n",
    "plt.figure(figsize=(7,3))\n",
    "plt.plot(C_series, acc)\n",
    "plt.title('Accuracy of steepest L1L2')"
   ]
  },
  {
   "cell_type": "code",
   "execution_count": 535,
   "metadata": {},
   "outputs": [
    {
     "name": "stdout",
     "output_type": "stream",
     "text": [
      "MAX Accuracy for Steepest none is  0.6992613436510728\n",
      "C is  0.01\n",
      "Wall time: 11.3 s\n"
     ]
    },
    {
     "data": {
      "image/png": "[encoded data removed]",
      "text/plain": [
       "<Figure size 504x216 with 1 Axes>"
      ]
     },
     "metadata": {
      "needs_background": "light"
     },
     "output_type": "display_data"
    }
   ],
   "source": [
    "%%time\n",
    "#Steepest none\n",
    "C_series = np.linspace(0.01,1,100) #generate a series number of C values\n",
    "maxacc = 0\n",
    "acc=[]\n",
    "for i in C_series:\n",
    "    lr = RegularizedMethodLogisticRegression(method=\"Steepest\", C=i, regulation=\"none\", eta=0.1, iters=100)\n",
    "    lr.fit(X_train,y_train)\n",
    "    yhat = lr.predict(X_test)\n",
    "    acc.append(accuracy_score(y_test,yhat))\n",
    "    if accuracy_score(y_test,yhat) > maxacc: #if the accuracy is larger than pivious one, it will equal to the new largest value\n",
    "        maxacc = accuracy_score(y_test,yhat) #we keep doing this until try all the c values and find out the largest accuracy and its C value\n",
    "        maxg = i\n",
    "print('MAX Accuracy for Steepest none is ', maxacc)\n",
    "print('C is ',maxg)\n",
    "plt.figure(figsize=(7,3))\n",
    "plt.plot(C_series, acc)\n",
    "plt.title('Accuracy of steepest none')"
   ]
  },
  {
   "cell_type": "markdown",
   "metadata": {},
   "source": [
    "For steepest, we can see that as long as C is small, the accuracy will be high. And also some other C values will reach the highest accuracy, but low C value have more frequency to reach high accuracy. Without any regulation, the accuracy will not change which make sense, because the gradient do not vary due to the change value of C."
   ]
  },
  {
   "cell_type": "code",
   "execution_count": 537,
   "metadata": {},
   "outputs": [
    {
     "name": "stdout",
     "output_type": "stream",
     "text": [
      "MAX Accuracy for Stochastic L1 is  0.6992613436510728\n",
      "C is  0.01\n",
      "Wall time: 330 ms\n"
     ]
    },
    {
     "data": {
      "image/png": "[encoded data removed]",
      "text/plain": [
       "<Figure size 504x216 with 1 Axes>"
      ]
     },
     "metadata": {
      "needs_background": "light"
     },
     "output_type": "display_data"
    }
   ],
   "source": [
    "%%time\n",
    "#Stochastic L1\n",
    "C_series = np.linspace(0.01,1,100) #generate a series number of C values\n",
    "maxacc = 0\n",
    "acc=[]\n",
    "for i in C_series:\n",
    "    lr = RegularizedMethodLogisticRegression(method=\"Stochastic\", C=i, regulation=\"L1\", eta=0.1, iters=100)\n",
    "    lr.fit(X_train,y_train)\n",
    "    yhat = lr.predict(X_test)\n",
    "    acc.append(accuracy_score(y_test,yhat))\n",
    "    if accuracy_score(y_test,yhat) > maxacc: #if the accuracy is larger than pivious one, it will equal to the new largest value\n",
    "        maxacc = accuracy_score(y_test,yhat) #we keep doing this until try all the c values and find out the largest accuracy and its C value\n",
    "        maxg = i\n",
    "print('MAX Accuracy for Stochastic L1 is ', maxacc)\n",
    "print('C is ',maxg)\n",
    "plt.figure(figsize=(7,3))\n",
    "plt.plot(C_series, acc)\n",
    "plt.title('Accuracy of Stochastic L1')"
   ]
  },
  {
   "cell_type": "code",
   "execution_count": 538,
   "metadata": {},
   "outputs": [
    {
     "name": "stdout",
     "output_type": "stream",
     "text": [
      "MAX Accuracy for Stochastic L2 is  0.6992613436510728\n",
      "C is  0.02\n",
      "Wall time: 275 ms\n"
     ]
    },
    {
     "data": {
      "image/png": "[encoded data removed]",
      "text/plain": [
       "<Figure size 504x216 with 1 Axes>"
      ]
     },
     "metadata": {
      "needs_background": "light"
     },
     "output_type": "display_data"
    }
   ],
   "source": [
    "%%time\n",
    "#Stochastic L2\n",
    "C_series = np.linspace(0.01,1,100) #generate a series number of C values\n",
    "maxacc = 0\n",
    "acc=[]\n",
    "for i in C_series:\n",
    "    lr = RegularizedMethodLogisticRegression(method=\"Stochastic\", C=i, regulation=\"L2\", eta=0.1, iters=100)\n",
    "    lr.fit(X_train,y_train)\n",
    "    yhat = lr.predict(X_test)\n",
    "    acc.append(accuracy_score(y_test,yhat))\n",
    "    if accuracy_score(y_test,yhat) > maxacc: #if the accuracy is larger than pivious one, it will equal to the new largest value\n",
    "        maxacc = accuracy_score(y_test,yhat) #we keep doing this until try all the c values and find out the largest accuracy and its C value\n",
    "        maxg = i\n",
    "print('MAX Accuracy for Stochastic L2 is ', maxacc)\n",
    "print('C is ',maxg)\n",
    "plt.figure(figsize=(7,3))\n",
    "plt.plot(C_series, acc)\n",
    "plt.title('Accuracy of Stochastic L2')"
   ]
  },
  {
   "cell_type": "code",
   "execution_count": 539,
   "metadata": {},
   "outputs": [
    {
     "name": "stdout",
     "output_type": "stream",
     "text": [
      "MAX Accuracy for Stochastic L1L2 is  0.6992613436510728\n",
      "C is  0.02\n",
      "Wall time: 293 ms\n"
     ]
    },
    {
     "data": {
      "image/png": "[encoded data removed]",
      "text/plain": [
       "<Figure size 504x216 with 1 Axes>"
      ]
     },
     "metadata": {
      "needs_background": "light"
     },
     "output_type": "display_data"
    }
   ],
   "source": [
    "%%time\n",
    "#Stochastic L1L2\n",
    "C_series = np.linspace(0.01,1,100) #generate a series number of C values\n",
    "maxacc = 0\n",
    "acc=[]\n",
    "for i in C_series:\n",
    "    lr = RegularizedMethodLogisticRegression(method=\"Stochastic\", C=i, regulation=\"L1L2\", eta=0.1, iters=100)\n",
    "    lr.fit(X_train,y_train)\n",
    "    yhat = lr.predict(X_test)\n",
    "    acc.append(accuracy_score(y_test,yhat))\n",
    "    if accuracy_score(y_test,yhat) > maxacc: #if the accuracy is larger than pivious one, it will equal to the new largest value\n",
    "        maxacc = accuracy_score(y_test,yhat) #we keep doing this until try all the c values and find out the largest accuracy and its C value\n",
    "        maxg = i\n",
    "print('MAX Accuracy for Stochastic L1L2 is ', maxacc)\n",
    "print('C is ',maxg)\n",
    "plt.figure(figsize=(7,3))\n",
    "plt.plot(C_series, acc)\n",
    "plt.title('Accuracy of Stochastic L1L2')"
   ]
  },
  {
   "cell_type": "code",
   "execution_count": 540,
   "metadata": {},
   "outputs": [
    {
     "name": "stdout",
     "output_type": "stream",
     "text": [
      "MAX Accuracy for Stochastic none is  0.6992613436510728\n",
      "C is  0.02\n",
      "Wall time: 259 ms\n"
     ]
    },
    {
     "data": {
      "image/png": "[encoded data removed]",
      "text/plain": [
       "<Figure size 504x216 with 1 Axes>"
      ]
     },
     "metadata": {
      "needs_background": "light"
     },
     "output_type": "display_data"
    }
   ],
   "source": [
    "%%time\n",
    "#Stochastic none\n",
    "C_series = np.linspace(0.01,1,100) #generate a series number of C values\n",
    "maxacc = 0\n",
    "acc=[]\n",
    "for i in C_series:\n",
    "    lr = RegularizedMethodLogisticRegression(method=\"Stochastic\", C=i, regulation=\"none\", eta=0.1, iters=100)\n",
    "    lr.fit(X_train,y_train)\n",
    "    yhat = lr.predict(X_test)\n",
    "    acc.append(accuracy_score(y_test,yhat))\n",
    "    if accuracy_score(y_test,yhat) > maxacc: #if the accuracy is larger than pivious one, it will equal to the new largest value\n",
    "        maxacc = accuracy_score(y_test,yhat) #we keep doing this until try all the c values and find out the largest accuracy and its C value\n",
    "        maxg = i\n",
    "print('MAX Accuracy for Stochastic none is ', maxacc)\n",
    "print('C is ',maxg)\n",
    "plt.figure(figsize=(7,3))\n",
    "plt.plot(C_series, acc)\n",
    "plt.title('Accuracy of Stochastic none')"
   ]
  },
  {
   "cell_type": "markdown",
   "metadata": {},
   "source": [
    "For stochastic, we can see that the accuracy is bouncing aournd really high value and low value. For the L1regulation, the lowest C value will provide higher accuracy. The reason why none regulation do not have unchanged accuracy because stochastic will grab random instance in calculation. So that each time you calculate it, the predicted value might changes.So that the accuracy is not unchanged."
   ]
  },
  {
   "cell_type": "code",
   "execution_count": 541,
   "metadata": {},
   "outputs": [
    {
     "name": "stdout",
     "output_type": "stream",
     "text": [
      "MAX Accuracy for Newton L1 is  0.6813225466056982\n",
      "C is  1.0\n",
      "Wall time: 24min 18s\n"
     ]
    },
    {
     "data": {
      "image/png": "[encoded data removed]",
      "text/plain": [
       "<Figure size 504x216 with 1 Axes>"
      ]
     },
     "metadata": {
      "needs_background": "light"
     },
     "output_type": "display_data"
    }
   ],
   "source": [
    "%%time\n",
    "#newton L1\n",
    "C_series = np.linspace(0.01,1,100) #generate a series number of C values\n",
    "maxacc = 0\n",
    "acc=[]\n",
    "for i in C_series:\n",
    "    lr = RegularizedMethodLogisticRegression(method=\"Newton\", C=i, regulation=\"L1\", eta=0.1, iters=100)\n",
    "    lr.fit(X_train,y_train)\n",
    "    yhat = lr.predict(X_test)\n",
    "    acc.append(accuracy_score(y_test,yhat))\n",
    "    if accuracy_score(y_test,yhat) > maxacc: #if the accuracy is larger than pivious one, it will equal to the new largest value\n",
    "        maxacc = accuracy_score(y_test,yhat) #we keep doing this until try all the c values and find out the largest accuracy and its C value\n",
    "        maxg = i\n",
    "print('MAX Accuracy for Newton L1 is ', maxacc)\n",
    "print('C is ',maxg)\n",
    "plt.figure(figsize=(7,3))\n",
    "plt.plot(C_series, acc)\n",
    "plt.title('Accuracy of Newton L1')"
   ]
  },
  {
   "cell_type": "code",
   "execution_count": 616,
   "metadata": {},
   "outputs": [
    {
     "name": "stdout",
     "output_type": "stream",
     "text": [
      "MAX Accuracy for Stochastic L1 is  0.7041857193105874\n",
      "C is  0.01\n",
      "Wall time: 255 ms\n"
     ]
    },
    {
     "data": {
      "image/png": "[encoded data removed]",
      "text/plain": [
       "<Figure size 504x216 with 1 Axes>"
      ]
     },
     "metadata": {
      "needs_background": "light"
     },
     "output_type": "display_data"
    }
   ],
   "source": [
    "\n",
    "#newton L2\n",
    "C_series = np.linspace(0.01,1,100) #generate a series number of C values\n",
    "maxacc = 0\n",
    "acc=[]\n",
    "for i in C_series:\n",
    "    lr = RegularizedMethodLogisticRegression(method=\"Newton\", C=i, regulation=\"L2\", eta=0.1, iters=100)\n",
    "    lr.fit(X_train,y_train)\n",
    "    yhat = lr.predict(X_test)\n",
    "    acc.append(accuracy_score(y_test,yhat))\n",
    "    if accuracy_score(y_test,yhat) > maxacc: #if the accuracy is larger than pivious one, it will equal to the new largest value\n",
    "        maxacc = accuracy_score(y_test,yhat) #we keep doing this until try all the c values and find out the largest accuracy and its C value\n",
    "        maxg = i\n",
    "print('MAX Accuracy for Newton L2 is ', maxacc)\n",
    "print('C is ',maxg)\n",
    "plt.figure(figsize=(7,3))\n",
    "plt.plot(C_series, acc)\n",
    "plt.title('Accuracy of Newton L2')"
   ]
  },
  {
   "cell_type": "code",
   "execution_count": 626,
   "metadata": {},
   "outputs": [
    {
     "name": "stdout",
     "output_type": "stream",
     "text": [
      "MAX Accuracy for Newton L1L2 is  0.6874991206472036\n",
      "C is  0.18000000000000002\n"
     ]
    },
    {
     "data": {
      "text/plain": [
       "Text(0.5, 1.0, 'Accuracy of Newton L1L2')"
      ]
     },
     "execution_count": 626,
     "metadata": {},
     "output_type": "execute_result"
    },
    {
     "data": {
      "image/png": "[encoded data removed]",
      "text/plain": [
       "<Figure size 504x216 with 1 Axes>"
      ]
     },
     "metadata": {
      "needs_background": "light"
     },
     "output_type": "display_data"
    }
   ],
   "source": [
    "\n",
    "#newton L1L2\n",
    "C_series = np.linspace(0.01,1,100) #generate a series number of C values\n",
    "maxacc = 0\n",
    "acc=[]\n",
    "for i in C_series:\n",
    "    lr = RegularizedMethodLogisticRegression(method=\"Newton\", C=i, regulation=\"L1L2\", eta=0.1, iters=100)\n",
    "    lr.fit(X_test,y_test)\n",
    "    yhat = lr.predict(X_test)\n",
    "    acc.append(accuracy_score(y_test,yhat))\n",
    "    if accuracy_score(y_test,yhat) > maxacc: #if the accuracy is larger than pivious one, it will equal to the new largest value\n",
    "        maxacc = accuracy_score(y_test,yhat) #we keep doing this until try all the c values and find out the largest accuracy and its C value\n",
    "        maxg = i\n",
    "print('MAX Accuracy for Newton L1L2 is ', maxacc)\n",
    "print('C is ',maxg)\n",
    "plt.figure(figsize=(7,3))\n",
    "plt.plot(C_series, acc)\n",
    "plt.title('Accuracy of Newton L1L2')"
   ]
  },
  {
   "cell_type": "code",
   "execution_count": 548,
   "metadata": {
    "scrolled": true
   },
   "outputs": [
    {
     "name": "stdout",
     "output_type": "stream",
     "text": [
      "MAX Accuracy for Newton non is  0.6999648258881463\n",
      "C is  0.01\n"
     ]
    },
    {
     "data": {
      "text/plain": [
       "Text(0.5, 1.0, 'Accuracy of Newton none')"
      ]
     },
     "execution_count": 548,
     "metadata": {},
     "output_type": "execute_result"
    },
    {
     "data": {
      "image/png": "[encoded data removed]",
      "text/plain": [
       "<Figure size 504x216 with 1 Axes>"
      ]
     },
     "metadata": {
      "needs_background": "light"
     },
     "output_type": "display_data"
    }
   ],
   "source": [
    "\n",
    "#newton none\n",
    "C_series = np.linspace(0.01,1,100) #generate a series number of C values\n",
    "maxacc = 0\n",
    "acc=[]\n",
    "for i in C_series:\n",
    "    lr = RegularizedMethodLogisticRegression(method=\"Newton\", C=i, regulation=\"none\", eta=0.1, iters=100)\n",
    "    lr.fit(X_train,y_train)\n",
    "    yhat = lr.predict(X_test)\n",
    "    acc.append(accuracy_score(y_test,yhat))\n",
    "    if accuracy_score(y_test,yhat) > maxacc: #if the accuracy is larger than pivious one, it will equal to the new largest value\n",
    "        maxacc = accuracy_score(y_test,yhat) #we keep doing this until try all the c values and find out the largest accuracy and its C value\n",
    "        maxg = i\n",
    "print('MAX Accuracy for Newton non is ', maxacc)\n",
    "print('C is ',maxg)\n",
    "plt.figure(figsize=(7,3))\n",
    "plt.plot(C_series, acc)\n",
    "plt.title('Accuracy of Newton none')"
   ]
  },
  {
   "cell_type": "markdown",
   "metadata": {},
   "source": [
    "For newton method, in L2 high accuracy when C is small. Other regulation have different C to reach the highest accuracy value. I found out that for the technique newton and L2 regulation, it have the highest Accuraccy with C = 0.01 compare to all other method."
   ]
  },
  {
   "cell_type": "code",
   "execution_count": 544,
   "metadata": {
    "scrolled": true
   },
   "outputs": [
    {
     "name": "stdout",
     "output_type": "stream",
     "text": [
      "Accuracy of:  0.7041857193105874\n",
      "Wall time: 13.7 s\n"
     ]
    }
   ],
   "source": [
    "%%time\n",
    "\n",
    "lr = RegularizedMethodLogisticRegression(method=\"Newton\", C=0.01, regulation=\"L2\", eta=0.1, iters=100)\n",
    "lr.fit(X_train,y_train)\n",
    "\n",
    "yhat = lr.predict(X_test)\n",
    "print('Accuracy of: ',accuracy_score(y_test,yhat))"
   ]
  },
  {
   "cell_type": "markdown",
   "metadata": {},
   "source": [
    "### Is your method of selecting parameters justified?"
   ]
  },
  {
   "cell_type": "markdown",
   "metadata": {},
   "source": [
    "Yes, I found out that for the technique newton and L2 regulation, it have the highest Accuraccy with C = 0.01 comparing to other method and regulation combination. The parameters I selected is highly suitable for our traning set, I got 70% accuracy which is really good. This result of accuracy shows that for our testing set and training set, our classfier is good to use."
   ]
  },
  {
   "cell_type": "markdown",
   "metadata": {},
   "source": [
    "### Do you think there is any \"data snooping\" involved with this method of selecting parameters?"
   ]
  },
  {
   "cell_type": "markdown",
   "metadata": {},
   "source": [
    "https://www.quora.com/What-is-data-snooping\n",
    "\n",
    "Data snooping occurs when a given set of data is used more than once for purposes of inference or model selection. When such data reuse occurs, there is always the possibility that any satisfactory results obtained may simply be due to chance rather than to any merit inherent in the method yielding the results.\n",
    "\n",
    "Sullivan, Timmermann, White (1999)"
   ]
  },
  {
   "cell_type": "markdown",
   "metadata": {},
   "source": [
    "This is the definition I found online. Base on their theory, in my model, I do use more than once of my dataset for finding the best parameters. So at the beginning, I have no idea which parameters are the best for performance, after I run mutiple combinations of parameters, I can select the best parameters for my model. I think this is data snooping. "
   ]
  },
  {
   "cell_type": "markdown",
   "metadata": {},
   "source": [
    "# Comparing to sklearn"
   ]
  },
  {
   "cell_type": "code",
   "execution_count": 504,
   "metadata": {},
   "outputs": [
    {
     "name": "stderr",
     "output_type": "stream",
     "text": [
      "D:\\APP\\Anaconda3\\lib\\site-packages\\sklearn\\linear_model\\logistic.py:460: FutureWarning: Default multi_class will be changed to 'auto' in 0.22. Specify the multi_class option to silence this warning.\n",
      "  \"this warning.\", FutureWarning)\n"
     ]
    },
    {
     "name": "stdout",
     "output_type": "stream",
     "text": [
      "Accuracy of:  0.7048892015476609\n",
      "0.18315459999939776 seconds\n",
      "Wall time: 183 ms\n"
     ]
    }
   ],
   "source": [
    "%%time\n",
    "#https://scikit-learn.org/stable/modules/generated/sklearn.linear_model.LogisticRegression.html\n",
    "# how do we compare now to sklearn?\n",
    "from sklearn.linear_model import LogisticRegression as sklr \n",
    "start_time = time.clock()\n",
    "lr_sk = sklr (solver='newton-cg',n_jobs=-1,penalty='l2',C=0.01,max_iter=100) \n",
    "lr_sk.fit(X_train,y_train) # no need to add bias term, sklearn does it internally!!\n",
    "yhat = lr_sk.predict(X_test)\n",
    "skacc = accuracy_score(y_test,yhat)\n",
    "print('Accuracy of: ',accuracy_score(y_test,yhat))\n",
    "sktime = time.clock() - start_time\n",
    "print(sktime, \"seconds\")"
   ]
  },
  {
   "cell_type": "code",
   "execution_count": 502,
   "metadata": {},
   "outputs": [
    {
     "name": "stdout",
     "output_type": "stream",
     "text": [
      "Accuracy of:  0.7041857193105874\n",
      "15.60358769999948 seconds\n",
      "Wall time: 15.6 s\n"
     ]
    }
   ],
   "source": [
    "%%time\n",
    "import time\n",
    "start_time = time.clock()\n",
    "lr = RegularizedMethodLogisticRegression(method=\"Newton\", C=0.01, regulation=\"L2\", eta=0.1, iters=100)\n",
    "lr.fit(X_train,y_train)\n",
    "yhat = lr.predict(X_test)\n",
    "ouracc = accuracy_score(y_test,yhat)\n",
    "print('Accuracy of: ',accuracy_score(y_test,yhat))\n",
    "ourtime = time.clock() - start_time\n",
    "print(ourtime, \"seconds\")"
   ]
  },
  {
   "cell_type": "code",
   "execution_count": 505,
   "metadata": {},
   "outputs": [
    {
     "data": {
      "image/png": "[encoded data removed]",
      "text/plain": [
       "<Figure size 432x288 with 2 Axes>"
      ]
     },
     "metadata": {
      "needs_background": "light"
     },
     "output_type": "display_data"
    },
    {
     "name": "stdout",
     "output_type": "stream",
     "text": [
      "Sklearn is  85.0 times faster than me.\n"
     ]
    }
   ],
   "source": [
    "#https://matplotlib.org/api/_as_gen/matplotlib.pyplot.axes.html\n",
    "fig, axes = plt.subplots(nrows=1, ncols=2)\n",
    "plt.setp(axes, xticks=[0, 1], xticklabels=['our', 'sklearn'])\n",
    "\n",
    "y_axis = [ourtime, sktime]\n",
    "x_axis = [0, 1]\n",
    "plt.sca(axes[0])\n",
    "plt.bar(x_axis, y_axis)\n",
    "axes[0].set_title('Time')\n",
    "\n",
    "plt.sca(axes[1])\n",
    "y_axis = [ouracc,skacc]\n",
    "x_axis = [0, 1]\n",
    "plt.bar(x_axis, y_axis)\n",
    "axes[1].set_title('Accuracy')\n",
    "\n",
    "plt.tight_layout()\n",
    "plt.show()\n",
    "print('Sklearn is ',round(ourtime/sktime,0),'times faster than me.')"
   ]
  },
  {
   "cell_type": "markdown",
   "metadata": {},
   "source": [
    "It is really clear to see that we have almost the same accuracy as sklearn does. However, I used 85 times more time than sklearn. This is huge difference which I can not reach. The reason behind this becasue sklearn is written by C and I wrote in np and other package. The packages I used is base on C, so my code is reach C through np package. But sklearn is directly reach C. And we all know C is running really fast. This just like sklearn is speaking face to face, it is clear. But I am talking through a phone. Of course face to face is more clear and there is no delay. \n",
    "\n",
    "On the other hand, sklearn was written by many perfessional person, the already optimized the code so it can be running so fast. Also I change n_job to -1 in sklearn which will using all my cpu core to run. I monitored my cpu performance and i noticed that sklearn can use all my cpu capacity. For my own code, my cpu only can run 50% cpu capacity. So I believe sklearn also have better cpu optimization than me code."
   ]
  },
  {
   "cell_type": "markdown",
   "metadata": {},
   "source": [
    "# Deployment"
   ]
  },
  {
   "cell_type": "markdown",
   "metadata": {},
   "source": [
    "My model have almost the same accuracy than sklearn does. However, i am 85 times slower than sklearn. In the most situations, I suggest use sklearn, becasue it is faster, accurate and also realiable. Sklearn is written by many professional person, so we can trust them. For large data set, sklearn is really efficient way to run.\n",
    "\n",
    "On the other hand, my model has advantage, becasue I can know every step of calculation. I can adjust every details in my model such as the way of calculating the gradient. That is sklearn can not do. If I want to add a new regulation method, i can easily do it. But for sklearn, if they did not upgrade the new method to package, you can not use it. Due to time problem, my model will be better when the dataset is not too big and you need to adjust some details. Otherwise, sklearn is best chooice."
   ]
  },
  {
   "cell_type": "markdown",
   "metadata": {},
   "source": [
    "# Exceptional Work"
   ]
  },
  {
   "cell_type": "code",
   "execution_count": 583,
   "metadata": {},
   "outputs": [
    {
     "name": "stdout",
     "output_type": "stream",
     "text": [
      "Wall time: 0 ns\n"
     ]
    }
   ],
   "source": [
    "%%time\n",
    "# from last time, our logistic regression algorithm is given by (including everything we previously had):\n",
    "class BinaryLogisticRegression:\n",
    "    def __init__(self, eta, iterations=20, C=0.01):\n",
    "        self.eta = eta\n",
    "        self.iters = iterations\n",
    "        self.C = C\n",
    "        # internally we will store the weights as self.w_ to keep with sklearn conventions\n",
    "        \n",
    "    def __str__(self):\n",
    "        if(hasattr(self,'w_')):\n",
    "            return 'Binary Logistic Regression Object with coefficients:\\n'+ str(self.w_) # is we have trained the object\n",
    "        else:\n",
    "            return 'Untrained Binary Logistic Regression Object'\n",
    "        \n",
    "    # convenience, private:\n",
    "    @staticmethod\n",
    "    def _add_bias(X):\n",
    "        return np.hstack((np.ones((X.shape[0],1)),X)) # add bias term\n",
    "    \n",
    "    @staticmethod\n",
    "    def _sigmoid(theta):\n",
    "        # increase stability, redefine sigmoid operation\n",
    "        return expit(theta) #1/(1+np.exp(-theta))\n",
    "    \n",
    "    # vectorized gradient calculation with regularization using L2 Norm\n",
    "    def _get_gradient(self,X,y):\n",
    "        ydiff = y-self.predict_proba(X,add_bias=False).ravel() # get y difference\n",
    "        gradient = np.mean(X * ydiff[:,np.newaxis], axis=0) # make ydiff a column vector and multiply through\n",
    "        \n",
    "        gradient = gradient.reshape(self.w_.shape)\n",
    "        gradient[1:] += -2 * self.w_[1:] * self.C\n",
    "        \n",
    "        return gradient\n",
    "    \n",
    "    # public:\n",
    "    def predict_proba(self,X,add_bias=True):\n",
    "        # add bias term if requested\n",
    "        Xb = self._add_bias(X) if add_bias else X\n",
    "        return self._sigmoid(Xb @ self.w_) # return the probability y=1\n",
    "    \n",
    "    def predict(self,X):\n",
    "        return (self.predict_proba(X)>0.5) #return the actual prediction\n",
    "    \n",
    "    \n",
    "    def fit(self, X, y):\n",
    "        Xb = self._add_bias(X) # add bias term\n",
    "        num_samples, num_features = Xb.shape\n",
    "        \n",
    "        self.w_ = np.zeros((num_features,1)) # init weight vector to zeros\n",
    "        \n",
    "        # for as many as the max iterations\n",
    "        for _ in range(self.iters):\n",
    "            gradient = self._get_gradient(Xb,y)\n",
    "            self.w_ += gradient*self.eta # multiply by learning rate "
   ]
  },
  {
   "cell_type": "code",
   "execution_count": 589,
   "metadata": {},
   "outputs": [
    {
     "name": "stdout",
     "output_type": "stream",
     "text": [
      "Wall time: 0 ns\n"
     ]
    }
   ],
   "source": [
    "%%time\n",
    "# for this, we won't perform our own BFGS implementation \n",
    "# (it takes a good deal of code and understanding of the algorithm)\n",
    "# luckily for us, scipy has its own BFGS implementation:\n",
    "from scipy.optimize import fmin_bfgs\n",
    "from sklearn.metrics import mean_squared_error\n",
    "class BFGSBinaryLogisticRegression(BinaryLogisticRegression):\n",
    "    def __init__(self, eta, iterations=20, C=0.01):\n",
    "        self.eta = eta\n",
    "        self.iters = iterations\n",
    "        self.C = C\n",
    "    @staticmethod\n",
    "    def objective_function(w,X,y,C):\n",
    "        g = expit(X @ w)\n",
    "        return mean_squared_error(y,g)#mean square error as objective function \n",
    "\n",
    "    @staticmethod\n",
    "    def objective_gradient(w,X,y,C):\n",
    "        g = expit(X @ w)\n",
    "        ydiff = y-g # get y difference\n",
    "        gradient = np.mean(X * ydiff[:,np.newaxis], axis=0)\n",
    "        gradient = gradient.reshape(w.shape)\n",
    "        gradient[1:] += -2 * w[1:] * C\n",
    "        return -gradient\n",
    "    \n",
    "    # just overwrite fit function\n",
    "    def fit(self, X, y):\n",
    "        Xb = self._add_bias(X) # add bias term\n",
    "        num_samples, num_features = Xb.shape\n",
    "        \n",
    "        self.w_ = fmin_bfgs(self.objective_function, # what to optimize\n",
    "                            np.zeros((num_features,1)), # starting point\n",
    "                            fprime=self.objective_gradient, # gradient function\n",
    "                            args=(Xb,y,self.C), # extra args for gradient and objective function\n",
    "                            gtol=1e-03, # stopping criteria for gradient, |v_k|\n",
    "                            maxiter=self.iters, # stopping criteria iterations\n",
    "                            disp=False)\n",
    "        \n",
    "        self.w_ = self.w_.reshape((num_features,1))\n",
    "            \n"
   ]
  },
  {
   "cell_type": "code",
   "execution_count": 620,
   "metadata": {},
   "outputs": [],
   "source": [
    "#change to binary y\n",
    "y_train = (y_train>1).astype(np.int)\n",
    "y_test = (y_test>1).astype(np.int)\n"
   ]
  },
  {
   "cell_type": "code",
   "execution_count": 623,
   "metadata": {},
   "outputs": [
    {
     "name": "stdout",
     "output_type": "stream",
     "text": [
      "Binary Logistic Regression Object with coefficients:\n",
      "[[-0.00518144]\n",
      " [-0.00333278]\n",
      " [-0.13011618]\n",
      " [-0.9162403 ]\n",
      " [-0.37527377]\n",
      " [-0.10286017]\n",
      " [-0.11056011]\n",
      " [-0.00117108]]\n",
      "Accuracy of:  0.7674991206472036\n",
      "Wall time: 87.3 ms\n"
     ]
    }
   ],
   "source": [
    "%%time\n",
    "bfgslr = BFGSBinaryLogisticRegression(eta=0.1, iterations=10, C=0.01) # note that we need only a few iterations here\n",
    "\n",
    "bfgslr.fit(X_train,y_train)\n",
    "yhat = bfgslr.predict(X_test)\n",
    "print(bfgslr)\n",
    "print('Accuracy of: ',accuracy_score(y_test,yhat))"
   ]
  },
  {
   "cell_type": "markdown",
   "metadata": {},
   "source": [
    "I implement an optimization technique for logistic regression using mean square error as your objective function (instead of binary entropy). And I change the y variable to binary which is no medal is 0 and have metal is 1. My new model is able to solve the binary logistic regression problem. The accuracy is not bad 76%."
   ]
  },
  {
   "cell_type": "code",
   "execution_count": null,
   "metadata": {},
   "outputs": [],
   "source": []
  }
 ],
 "metadata": {
  "kernelspec": {
   "display_name": "Python 3",
   "language": "python",
   "name": "python3"
  },
  "language_info": {
   "codemirror_mode": {
    "name": "ipython",
    "version": 3
   },
   "file_extension": ".py",
   "mimetype": "text/x-python",
   "name": "python",
   "nbconvert_exporter": "python",
   "pygments_lexer": "ipython3",
   "version": "3.7.3"
  }
 },
 "nbformat": 4,
 "nbformat_minor": 2
}
