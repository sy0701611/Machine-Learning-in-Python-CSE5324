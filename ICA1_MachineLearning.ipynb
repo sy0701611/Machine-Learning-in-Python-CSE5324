{
 "cells": [
  {
   "cell_type": "code",
   "execution_count": 1,
   "metadata": {},
   "outputs": [
    {
     "data": {
      "text/html": [
       "<link href='https://fonts.googleapis.com/css?family=Passion+One' rel='stylesheet' type='text/css'><style>div.attn { font-family: 'Helvetica Neue'; font-size: 30px; line-height: 40px; color: #FFFFFF; text-align: center; margin: 30px 0; border-width: 10px 0; border-style: solid; border-color: #5AAAAA; padding: 30px 0; background-color: #DDDDFF; }hr { border: 0; background-color: #ffffff; border-top: 1px solid black; }hr.major { border-top: 10px solid #5AAA5A; }hr.minor { border: none; background-color: #ffffff; border-top: 5px dotted #CC3333; }div.bubble { width: 65%; padding: 20px; background: #DDDDDD; border-radius: 15px; margin: 0 auto; font-style: italic; color: #f00; }em { color: #AAA; }div.c1{visibility:hidden;margin:0;height:0;}div.note{color:red;}</style>"
      ],
      "text/plain": [
       "<IPython.core.display.HTML object>"
      ]
     },
     "execution_count": 1,
     "metadata": {},
     "output_type": "execute_result"
    }
   ],
   "source": [
    "#  Ebnable HTML/CSS \n",
    "from IPython.core.display import HTML\n",
    "HTML(\"<link href='https://fonts.googleapis.com/css?family=Passion+One' rel='stylesheet' type='text/css'><style>div.attn { font-family: 'Helvetica Neue'; font-size: 30px; line-height: 40px; color: #FFFFFF; text-align: center; margin: 30px 0; border-width: 10px 0; border-style: solid; border-color: #5AAAAA; padding: 30px 0; background-color: #DDDDFF; }hr { border: 0; background-color: #ffffff; border-top: 1px solid black; }hr.major { border-top: 10px solid #5AAA5A; }hr.minor { border: none; background-color: #ffffff; border-top: 5px dotted #CC3333; }div.bubble { width: 65%; padding: 20px; background: #DDDDDD; border-radius: 15px; margin: 0 auto; font-style: italic; color: #f00; }em { color: #AAA; }div.c1{visibility:hidden;margin:0;height:0;}div.note{color:red;}</style>\")"
   ]
  },
  {
   "cell_type": "markdown",
   "metadata": {},
   "source": [
    "___\n",
    "Enter Team Member Names here (double click to edit):\n",
    "\n",
    "- Name 1: Yang Shen\n",
    "- Name 2:\n",
    "- Name 3:\n"
   ]
  },
  {
   "cell_type": "markdown",
   "metadata": {},
   "source": [
    "# In Class Assignment One\n",
    "In the following assignment you will be asked to fill in python code and derivations for a number of different problems. Please read all instructions carefully and turn in the rendered notebook (or HTML of the rendered notebook)  before the end of class (or right after class). The initial portion of this notebook is given before class and the remainder is given during class. Please answer the initial questions before class, to the best of your ability. Once class has started you may rework your answers as a team for the initial part of the assignment. \n",
    "\n",
    "<a id=\"top\"></a>\n",
    "## Contents\n",
    "* <a href=\"#Loading\">Loading the Data</a>\n",
    "* <a href=\"#linearnumpy\">Linear Regression</a>\n",
    "* <a href=\"#sklearn\">Using Scikit Learn for Regression</a>\n",
    "* <a href=\"#classification\">Linear Classification</a>\n",
    "\n",
    "________________________________________________________________________________________________________\n",
    "\n",
    "<a id=\"Loading\"></a>\n",
    "<a href=\"#top\">Back to Top</a>\n",
    "## Loading the Data\n",
    "Please run the following code to read in the \"diabetes\" dataset from sklearn's data loading module. \n",
    "\n",
    "This will load the data into the variable `ds`. `ds` is a `bunch` object with fields like `ds.data` and `ds.target`. The field `ds.data` is a numpy matrix of the continuous features in the dataset. **The object is not a pandas dataframe. It is a numpy matrix.** Each row is a set of observed instances, each column is a different feature. It also has a field called `ds.target` that is a continuous value we are trying to predict. Each entry in `ds.target` is a label for each row of the `ds.data` matrix. "
   ]
  },
  {
   "cell_type": "code",
   "execution_count": 2,
   "metadata": {},
   "outputs": [
    {
     "name": "stdout",
     "output_type": "stream",
     "text": [
      "features shape: (442, 10) format is: ('rows', 'columns')\n",
      "range of target: 25.0 346.0\n"
     ]
    }
   ],
   "source": [
    "from __future__ import print_function\n",
    "from sklearn.datasets import load_diabetes\n",
    "import numpy as np\n",
    "\n",
    "\n",
    "\n",
    "ds = load_diabetes()\n",
    "\n",
    "# this holds the continuous feature data\n",
    "# because ds.data is a matrix, there are some special properties we can access (like 'shape')\n",
    "print('features shape:', ds.data.shape, 'format is:', ('rows','columns')) # there are 442 instances and 10 features per instance\n",
    "print('range of target:', np.min(ds.target),np.max(ds.target))"
   ]
  },
  {
   "cell_type": "code",
   "execution_count": 3,
   "metadata": {
    "scrolled": true
   },
   "outputs": [
    {
     "name": "stdout",
     "output_type": "stream",
     "text": [
      "array([[ 0.03807591,  0.05068012,  0.06169621, ..., -0.00259226,\n",
      "         0.01990842, -0.01764613],\n",
      "       [-0.00188202, -0.04464164, -0.05147406, ..., -0.03949338,\n",
      "        -0.06832974, -0.09220405],\n",
      "       [ 0.08529891,  0.05068012,  0.04445121, ..., -0.00259226,\n",
      "         0.00286377, -0.02593034],\n",
      "       ...,\n",
      "       [ 0.04170844,  0.05068012, -0.01590626, ..., -0.01107952,\n",
      "        -0.04687948,  0.01549073],\n",
      "       [-0.04547248, -0.04464164,  0.03906215, ...,  0.02655962,\n",
      "         0.04452837, -0.02593034],\n",
      "       [-0.04547248, -0.04464164, -0.0730303 , ..., -0.03949338,\n",
      "        -0.00421986,  0.00306441]])\n",
      "array([151.,  75., 141., 206., 135.,  97., 138.,  63., 110., 310., 101.,\n",
      "        69., 179., 185., 118., 171., 166., 144.,  97., 168.,  68.,  49.,\n",
      "        68., 245., 184., 202., 137.,  85., 131., 283., 129.,  59., 341.,\n",
      "        87.,  65., 102., 265., 276., 252.,  90., 100.,  55.,  61.,  92.,\n",
      "       259.,  53., 190., 142.,  75., 142., 155., 225.,  59., 104., 182.,\n",
      "       128.,  52.,  37., 170., 170.,  61., 144.,  52., 128.,  71., 163.,\n",
      "       150.,  97., 160., 178.,  48., 270., 202., 111.,  85.,  42., 170.,\n",
      "       200., 252., 113., 143.,  51.,  52., 210.,  65., 141.,  55., 134.,\n",
      "        42., 111.,  98., 164.,  48.,  96.,  90., 162., 150., 279.,  92.,\n",
      "        83., 128., 102., 302., 198.,  95.,  53., 134., 144., 232.,  81.,\n",
      "       104.,  59., 246., 297., 258., 229., 275., 281., 179., 200., 200.,\n",
      "       173., 180.,  84., 121., 161.,  99., 109., 115., 268., 274., 158.,\n",
      "       107.,  83., 103., 272.,  85., 280., 336., 281., 118., 317., 235.,\n",
      "        60., 174., 259., 178., 128.,  96., 126., 288.,  88., 292.,  71.,\n",
      "       197., 186.,  25.,  84.,  96., 195.,  53., 217., 172., 131., 214.,\n",
      "        59.,  70., 220., 268., 152.,  47.,  74., 295., 101., 151., 127.,\n",
      "       237., 225.,  81., 151., 107.,  64., 138., 185., 265., 101., 137.,\n",
      "       143., 141.,  79., 292., 178.,  91., 116.,  86., 122.,  72., 129.,\n",
      "       142.,  90., 158.,  39., 196., 222., 277.,  99., 196., 202., 155.,\n",
      "        77., 191.,  70.,  73.,  49.,  65., 263., 248., 296., 214., 185.,\n",
      "        78.,  93., 252., 150.,  77., 208.,  77., 108., 160.,  53., 220.,\n",
      "       154., 259.,  90., 246., 124.,  67.,  72., 257., 262., 275., 177.,\n",
      "        71.,  47., 187., 125.,  78.,  51., 258., 215., 303., 243.,  91.,\n",
      "       150., 310., 153., 346.,  63.,  89.,  50.,  39., 103., 308., 116.,\n",
      "       145.,  74.,  45., 115., 264.,  87., 202., 127., 182., 241.,  66.,\n",
      "        94., 283.,  64., 102., 200., 265.,  94., 230., 181., 156., 233.,\n",
      "        60., 219.,  80.,  68., 332., 248.,  84., 200.,  55.,  85.,  89.,\n",
      "        31., 129.,  83., 275.,  65., 198., 236., 253., 124.,  44., 172.,\n",
      "       114., 142., 109., 180., 144., 163., 147.,  97., 220., 190., 109.,\n",
      "       191., 122., 230., 242., 248., 249., 192., 131., 237.,  78., 135.,\n",
      "       244., 199., 270., 164.,  72.,  96., 306.,  91., 214.,  95., 216.,\n",
      "       263., 178., 113., 200., 139., 139.,  88., 148.,  88., 243.,  71.,\n",
      "        77., 109., 272.,  60.,  54., 221.,  90., 311., 281., 182., 321.,\n",
      "        58., 262., 206., 233., 242., 123., 167.,  63., 197.,  71., 168.,\n",
      "       140., 217., 121., 235., 245.,  40.,  52., 104., 132.,  88.,  69.,\n",
      "       219.,  72., 201., 110.,  51., 277.,  63., 118.,  69., 273., 258.,\n",
      "        43., 198., 242., 232., 175.,  93., 168., 275., 293., 281.,  72.,\n",
      "       140., 189., 181., 209., 136., 261., 113., 131., 174., 257.,  55.,\n",
      "        84.,  42., 146., 212., 233.,  91., 111., 152., 120.,  67., 310.,\n",
      "        94., 183.,  66., 173.,  72.,  49.,  64.,  48., 178., 104., 132.,\n",
      "       220.,  57.])\n"
     ]
    }
   ],
   "source": [
    "from pprint import pprint\n",
    "\n",
    "# we can set the fields inside of ds and set them to new variables in python\n",
    "pprint(ds.data) # prints out elements of the matrix\n",
    "pprint(ds.target) # prints the vector (all 442 items)"
   ]
  },
  {
   "cell_type": "markdown",
   "metadata": {},
   "source": [
    "________________________________________________________________________________________________________\n",
    "<a id=\"linearnumpy\"></a>\n",
    "<a href=\"#top\">Back to Top</a>\n",
    "## Using Linear Regression \n",
    "In the videos, we derived the formula for calculating the optimal values of the regression weights (you must be connected to the internet for this equation to show up properly):\n",
    "\n",
    "$$ w = (X^TX)^{-1}X^Ty $$\n",
    "\n",
    "where $X$ is the matrix of values with a bias column of ones appended onto it. For the diabetes dataset one could construct this $X$ matrix by stacking a column of ones onto the `ds.data` matrix. \n",
    "\n",
    "$$ X=\\begin{bmatrix}\n",
    "         & \\vdots &        &  1 \\\\\n",
    "        \\dotsb & \\text{ds.data} & \\dotsb &  \\vdots\\\\\n",
    "         & \\vdots &         &  1\\\\\n",
    "     \\end{bmatrix}\n",
    "$$\n",
    "\n",
    "**Question 1:** For the diabetes dataset, how many elements will the vector $w$ contain?"
   ]
  },
  {
   "cell_type": "code",
   "execution_count": 4,
   "metadata": {},
   "outputs": [
    {
     "data": {
      "text/plain": [
       "11"
      ]
     },
     "execution_count": 4,
     "metadata": {},
     "output_type": "execute_result"
    }
   ],
   "source": [
    "# Enter your answer here (or write code to calculate it)\n",
    "\n",
    "11\n",
    "\n",
    "#"
   ]
  },
  {
   "cell_type": "markdown",
   "metadata": {},
   "source": [
    "________________________________________________________________________________________________________\n",
    "\n",
    "**Exercise 1:** In the following empty cell, use the given equation above (using numpy matrix operations) to find the values of the optimal vector $w$. You will need to be sure $X$ and $y$ are created like the instructor talked about in the video. Don't forget to include any modifications to $X$ to account for the bias term in $w$. You might be interested in the following functions:\n",
    "\n",
    "- `import numpy as np`\n",
    "- `np.hstack((mat1,mat2))` stack two matrices horizontally, to create a new matrix\n",
    "- `np.ones((rows,cols))` create a matrix full of ones\n",
    "- `my_mat.T` takes transpose of numpy matrix named `my_mat`\n",
    "- `np.dot(mat1,mat2)` or `mat1 @ mat2` is matrix multiplication for two matrices\n",
    "- `np.linalg.inv(mat)` gets the inverse of the variable `mat`"
   ]
  },
  {
   "cell_type": "code",
   "execution_count": 5,
   "metadata": {},
   "outputs": [
    {
     "data": {
      "text/plain": [
       "array([ -10.01219782, -239.81908937,  519.83978679,  324.39042769,\n",
       "       -792.18416163,  476.74583782,  101.04457032,  177.06417623,\n",
       "        751.27932109,   67.62538639,  152.13348416])"
      ]
     },
     "execution_count": 5,
     "metadata": {},
     "output_type": "execute_result"
    }
   ],
   "source": [
    "# Write you code here, print the values of the regression weights using the 'print()' function in python\n",
    "import numpy as np\n",
    "\n",
    "X = np.hstack((ds.data,np.ones((442,1))))\n",
    "\n",
    "y = ds.target\n",
    "\n",
    "w = np.linalg.inv(X.T @ X) @ X.T @ds.target\n",
    "\n",
    "w\n",
    "\n"
   ]
  },
  {
   "cell_type": "markdown",
   "metadata": {},
   "source": [
    "\n",
    "___\n",
    "<a id=\"sklearn\"></a>\n",
    "<a href=\"#top\">Back to Top</a>\n",
    "# Start of Live Session Coding\n",
    "\n",
    "**Exercise 2:** Scikit-learn also has a linear regression fitting implementation. Look at the scikit learn API and learn to use the linear regression method. The API is here: \n",
    "\n",
    "- API Reference: http://scikit-learn.org/stable/modules/generated/sklearn.linear_model.LinearRegression.html\n",
    "\n",
    "Use the sklearn `LinearRegression` module to check your results from the previous question. \n",
    "\n",
    "**Question 2**: Did you get the same parameters? "
   ]
  },
  {
   "cell_type": "code",
   "execution_count": 6,
   "metadata": {},
   "outputs": [
    {
     "name": "stdout",
     "output_type": "stream",
     "text": [
      "model coefficients are:  [ -10.01219782 -239.81908937  519.83978679  324.39042769 -792.18416163\n",
      "  476.74583782  101.04457032  177.06417623  751.27932109   67.62538639]\n",
      "==================\n",
      "model intercept is 152.1334841628965\n",
      "==================\n",
      "Answer to question is I get the same parameters results from the previous question \n"
     ]
    }
   ],
   "source": [
    "from sklearn.linear_model import LinearRegression\n",
    "\n",
    "# write your code here, print the values of model by accessing \n",
    "#    its properties that you looked up from the API\n",
    "reg = LinearRegression()\n",
    "reg.fit(ds.data,ds.target)\n",
    "reg.coef_\n",
    "reg.intercept_\n",
    "\n",
    "print('model coefficients are: ', reg.coef_ )\n",
    "print('==================')\n",
    "print('model intercept is', reg.intercept_)\n",
    "print('==================')\n",
    "print('Answer to question is', 'I get the same parameters results from the previous question ')\n"
   ]
  },
  {
   "cell_type": "markdown",
   "metadata": {},
   "source": [
    "________________________________________________________________________________________________________\n",
    "\n",
    "Recall that to predict the output from our model, $\\hat{y}$, from $w$ and $X$ we need to use the following formula:\n",
    "\n",
    "- $\\hat{y}=w^TX^T$, for row vector $\\hat{y}$\n",
    "- OR \n",
    "- $\\hat{y}=Xw$, for column vector $\\hat{y}$\n",
    "\n",
    "Where $X$ is a matrix with example instances in *each row* of the matrix (and the bias term).\n",
    "\n",
    "**Exercise 3:** \n",
    "- *Part A:* Use matrix multiplication to predict output using numpy, $\\hat{y}_{numpy}$. \n",
    " - **Note**: you may need to make the regression weights a column vector using the following code: `w = w.reshape((len(w),1))` This assumes your weights vector is assigned to the variable named `w`.\n",
    "- *Part B:* Use the sklearn API to get the values for $\\hat{y}_{sklearn}$ (hint: use the `.predict` function of the API).\n",
    "- *Part C:* Calculate the mean squared error between your prediction from numpy and the target, $\\frac{1}{M}\\sum_i(y-\\hat{y}_{numpy})^2$. \n",
    "- *Part D:* Calculate the mean squared error between your sklearn prediction and the target, $\\frac{1}{M}\\sum_i(y-\\hat{y}_{sklearn})^2$.\n",
    " - **Note**: parts C and D can each be completed in one line of code using numpy. There is no need to write a `for` loop."
   ]
  },
  {
   "cell_type": "code",
   "execution_count": 7,
   "metadata": {
    "scrolled": false
   },
   "outputs": [
    {
     "name": "stdout",
     "output_type": "stream",
     "text": [
      "MSE Numpy is: [[206.11706979  68.07234761 176.88406035 166.91796559 128.45984241\n",
      "  106.34908972  73.89417947 118.85378669 158.81033076 213.58408893\n",
      "   97.07853583  95.1016223  115.06673301 164.67605023 103.07517946\n",
      "  177.17236996 211.75953205 182.84424343 147.99987605 124.01702527\n",
      "  120.33094632  85.80377894 113.11286302 252.44934852 165.48821056\n",
      "  147.72187623  97.12824075 179.09342974 129.05497324 184.78138552\n",
      "  158.71515746  69.47588393 261.50255826 112.81897436  78.37194762\n",
      "   87.66624129 207.92460213 157.87686037 240.84370686 136.93372685\n",
      "  153.48187659  74.15703284 145.63105805  77.8280105  221.0786645\n",
      "  125.22224022 142.60147066 109.4926324   73.14037106 189.87368742\n",
      "  157.93636782 169.55816531 134.18186217 157.72356219 139.1077439\n",
      "   72.73252701 207.8289973   80.10834588 104.08562488 134.57807971\n",
      "  114.23779529 180.67760064  61.12644508  98.7215441  113.79626149\n",
      "  189.96141244 148.98263155 124.33457266 114.83969622 122.00224605\n",
      "   73.91315064 236.70948329 142.31366526 124.51427625 150.84273716\n",
      "  127.75408702 191.16674356  77.05921006 166.82129568  91.00741773\n",
      "  174.75026808 122.83488194  63.27214662 151.99895968  53.73407848\n",
      "  166.00134469  42.65030679 153.04135861  80.54493791 106.9048058\n",
      "   79.94239571 187.1634566  192.60115666  61.07125918 107.40466928\n",
      "  125.04038427 207.72180472 214.21749964 123.47505642 139.16396617\n",
      "  168.21035724 106.9267784  150.64502809 157.92231541 152.75856279\n",
      "  116.22255529  73.03090141 155.66898717 230.14278537 143.50191007\n",
      "   38.0947967  121.860737   152.79569851 207.99651918 291.23082717\n",
      "  189.17431487 214.02871163 235.18090808 165.3872774  151.25000032\n",
      "  156.57626783 200.44154589 219.35211772 174.79049427 169.23161767\n",
      "  187.8719893   57.49473392 108.55110499  92.68518048 210.87365701\n",
      "  245.47433558  69.84529943 113.0351432   68.42945176 141.69628649\n",
      "  239.46177949  58.3802079  235.47268158 254.91986281 253.31042713\n",
      "  155.50813249 230.55904185 170.44063216 117.99200943 178.55548636\n",
      "  240.07155813 190.3398776  228.66100769 114.24162642 178.36570405\n",
      "  209.09273631 144.85567253 200.65791056 121.34184881 150.50918174\n",
      "  199.02165018 146.2806806  124.02443772  85.26036769 235.16536625\n",
      "   82.17255475 231.29266191 144.36634395 197.04778326 146.99720377\n",
      "   77.18477545  59.3728572  262.67891084 225.12578458 220.20506312\n",
      "   46.59691745  88.1040833  221.77623752  97.24900614 164.48869956\n",
      "  119.90114263 157.79986195 223.08505437  99.5885471  165.84341641\n",
      "  179.47571002  89.83382843 171.82492808 158.36337775 201.47857482\n",
      "  186.39202728 197.47094269  66.57241937 154.59826802 116.18638034\n",
      "  195.92074021 128.04740268  91.20285628 140.56975398 155.23013996\n",
      "  169.70207476  98.75498537 190.1453107  142.5193942  177.26966106\n",
      "   95.31403505  69.0645889  164.16669511 198.06460718 178.26228169\n",
      "  228.58801706 160.67275473 212.28682319 222.48172067 172.85184399\n",
      "  125.27697688 174.7240982  152.38282657  98.58485669  99.73695497\n",
      "  262.29658755 223.73784832 221.3425256  133.61497308 145.42593933\n",
      "   53.04259372 141.81807792 153.68369915 125.21948824  77.25091512\n",
      "  230.26311068  78.90849563 105.20931175 117.99633487  99.06361032\n",
      "  166.55382825 159.34391027 158.27612808 143.05658763 231.55938678\n",
      "  176.64144413 187.23572317  65.38504165 190.66078824 179.74973878\n",
      "  234.91022512 119.15540438  85.63464409 100.85860205 140.4174259\n",
      "  101.83836332 120.66138775  83.06599161 234.58754656 245.16192142\n",
      "  263.26766492 274.87431887 180.67699732 203.05474761 254.21769367\n",
      "  118.44122343 268.44988948 104.83643442 115.87172349 140.45788952\n",
      "   58.46850453 129.83264097 263.78452618  45.01240356 123.28697604\n",
      "  131.08314499  34.89018315 138.35659686 244.30370588  89.95612306\n",
      "  192.07094588 164.32674962 147.74783541 191.89381753 176.44296313\n",
      "  158.34707354 189.19183226 116.58275843 111.44622859 117.45262547\n",
      "  165.79457547  97.80241129 139.54389024  84.17453643 159.9389204\n",
      "  202.4011919   80.48200416 146.64621068  79.05274311 191.33759392\n",
      "  220.67545196 203.75145711  92.87093594 179.15570241  81.80126162\n",
      "  152.82706623  76.79700486  97.79712384 106.83424483 123.83477117\n",
      "  218.13375502 126.02077447 206.76300555 230.57976636 122.0628518\n",
      "  135.67694517 126.36969016 148.49621551  88.07082258 138.95595037\n",
      "  203.86570118 172.55362727 122.95773416 213.92445645 174.88857841\n",
      "  110.07169487 198.36767241 173.24601643 162.64946177 193.31777358\n",
      "  191.53802295 284.13478714 279.30688474 216.0070265  210.08517801\n",
      "  216.22213925 157.01489819 224.06561179 189.05840605 103.56829281\n",
      "  178.70442926 111.81492124 290.99913121 182.64959461  79.33602602\n",
      "   86.33287509 249.15238929 174.51439576 122.10645431 146.27099383\n",
      "  170.6555544  183.50018707 163.36970989 157.03563376 144.42617093\n",
      "  125.30179325 177.50072942 104.57821235 132.1746674   95.06145678\n",
      "  249.9007786   86.24033937  62.00077469 156.81087903 192.3231713\n",
      "  133.85292727  93.67456315 202.49458467  52.53953733 174.82926235\n",
      "  196.9141296  118.06646574 235.3011088  165.09286707 160.41863314\n",
      "  162.37831419 254.05718804 257.23616403 197.50578991 184.06609359\n",
      "   58.62043851 194.3950396  110.77475548 142.20916765 128.82725506\n",
      "  180.12844365 211.26415225 169.59711427 164.34167693 136.2363478\n",
      "  174.50905908  74.67649224 246.29542114 114.14131338 111.54358708\n",
      "  140.02313284 109.99647408  91.37269237 163.01389345  75.16389857\n",
      "  254.05755095  53.47055785  98.48060512 100.66268306 258.58885744\n",
      "  170.67482041  61.91866052 182.3042492  171.26913027 189.19307553\n",
      "  187.18384852  87.12032949 148.37816611 251.35898288 199.69712357\n",
      "  283.63722409  50.85577124 172.14848891 204.06179478 174.16816194\n",
      "  157.93027543 150.50201654 232.9761832  121.5808709  164.54891787\n",
      "  172.67742636 226.78005938 149.46967223  99.14026374  80.43680779\n",
      "  140.15557121 191.90593837 199.27952034 153.63210613 171.80130949\n",
      "  112.11314588 162.60650576 129.8448476  258.02898298 100.70869427\n",
      "  115.87611124 122.53790409 218.17749233  60.94590955 131.09513588\n",
      "  119.48417359  52.60848094 193.01802803 101.05169913 121.22505534\n",
      "  211.8588945   53.44819015]]\n",
      "==============================\n",
      "MSE Sklearn is: [206.11706979  68.07234761 176.88406035 166.91796559 128.45984241\n",
      " 106.34908972  73.89417947 118.85378669 158.81033076 213.58408893\n",
      "  97.07853583  95.1016223  115.06673301 164.67605023 103.07517946\n",
      " 177.17236996 211.75953205 182.84424343 147.99987605 124.01702527\n",
      " 120.33094632  85.80377894 113.11286302 252.44934852 165.48821056\n",
      " 147.72187623  97.12824075 179.09342974 129.05497324 184.78138552\n",
      " 158.71515746  69.47588393 261.50255826 112.81897436  78.37194762\n",
      "  87.66624129 207.92460213 157.87686037 240.84370686 136.93372685\n",
      " 153.48187659  74.15703284 145.63105805  77.8280105  221.0786645\n",
      " 125.22224022 142.60147066 109.4926324   73.14037106 189.87368742\n",
      " 157.93636782 169.55816531 134.18186217 157.72356219 139.1077439\n",
      "  72.73252701 207.8289973   80.10834588 104.08562488 134.57807971\n",
      " 114.23779529 180.67760064  61.12644508  98.7215441  113.79626149\n",
      " 189.96141244 148.98263155 124.33457266 114.83969622 122.00224605\n",
      "  73.91315064 236.70948329 142.31366526 124.51427625 150.84273716\n",
      " 127.75408702 191.16674356  77.05921006 166.82129568  91.00741773\n",
      " 174.75026808 122.83488194  63.27214662 151.99895968  53.73407848\n",
      " 166.00134469  42.65030679 153.04135861  80.54493791 106.9048058\n",
      "  79.94239571 187.1634566  192.60115666  61.07125918 107.40466928\n",
      " 125.04038427 207.72180472 214.21749964 123.47505642 139.16396617\n",
      " 168.21035724 106.9267784  150.64502809 157.92231541 152.75856279\n",
      " 116.22255529  73.03090141 155.66898717 230.14278537 143.50191007\n",
      "  38.0947967  121.860737   152.79569851 207.99651918 291.23082717\n",
      " 189.17431487 214.02871163 235.18090808 165.3872774  151.25000032\n",
      " 156.57626783 200.44154589 219.35211772 174.79049427 169.23161767\n",
      " 187.8719893   57.49473392 108.55110499  92.68518048 210.87365701\n",
      " 245.47433558  69.84529943 113.0351432   68.42945176 141.69628649\n",
      " 239.46177949  58.3802079  235.47268158 254.91986281 253.31042713\n",
      " 155.50813249 230.55904185 170.44063216 117.99200943 178.55548636\n",
      " 240.07155813 190.3398776  228.66100769 114.24162642 178.36570405\n",
      " 209.09273631 144.85567253 200.65791056 121.34184881 150.50918174\n",
      " 199.02165018 146.2806806  124.02443772  85.26036769 235.16536625\n",
      "  82.17255475 231.29266191 144.36634395 197.04778326 146.99720377\n",
      "  77.18477545  59.3728572  262.67891084 225.12578458 220.20506312\n",
      "  46.59691745  88.1040833  221.77623752  97.24900614 164.48869956\n",
      " 119.90114263 157.79986195 223.08505437  99.5885471  165.84341641\n",
      " 179.47571002  89.83382843 171.82492808 158.36337775 201.47857482\n",
      " 186.39202728 197.47094269  66.57241937 154.59826802 116.18638034\n",
      " 195.92074021 128.04740268  91.20285628 140.56975398 155.23013996\n",
      " 169.70207476  98.75498537 190.1453107  142.5193942  177.26966106\n",
      "  95.31403505  69.0645889  164.16669511 198.06460718 178.26228169\n",
      " 228.58801706 160.67275473 212.28682319 222.48172067 172.85184399\n",
      " 125.27697688 174.7240982  152.38282657  98.58485669  99.73695497\n",
      " 262.29658755 223.73784832 221.3425256  133.61497308 145.42593933\n",
      "  53.04259372 141.81807792 153.68369915 125.21948824  77.25091512\n",
      " 230.26311068  78.90849563 105.20931175 117.99633487  99.06361032\n",
      " 166.55382825 159.34391027 158.27612808 143.05658763 231.55938678\n",
      " 176.64144413 187.23572317  65.38504165 190.66078824 179.74973878\n",
      " 234.91022512 119.15540438  85.63464409 100.85860205 140.4174259\n",
      " 101.83836332 120.66138775  83.06599161 234.58754656 245.16192142\n",
      " 263.26766492 274.87431887 180.67699732 203.05474761 254.21769367\n",
      " 118.44122343 268.44988948 104.83643442 115.87172349 140.45788952\n",
      "  58.46850453 129.83264097 263.78452618  45.01240356 123.28697604\n",
      " 131.08314499  34.89018315 138.35659686 244.30370588  89.95612306\n",
      " 192.07094588 164.32674962 147.74783541 191.89381753 176.44296313\n",
      " 158.34707354 189.19183226 116.58275843 111.44622859 117.45262547\n",
      " 165.79457547  97.80241129 139.54389024  84.17453643 159.9389204\n",
      " 202.4011919   80.48200416 146.64621068  79.05274311 191.33759392\n",
      " 220.67545196 203.75145711  92.87093594 179.15570241  81.80126162\n",
      " 152.82706623  76.79700486  97.79712384 106.83424483 123.83477117\n",
      " 218.13375502 126.02077447 206.76300555 230.57976636 122.0628518\n",
      " 135.67694517 126.36969016 148.49621551  88.07082258 138.95595037\n",
      " 203.86570118 172.55362727 122.95773416 213.92445645 174.88857841\n",
      " 110.07169487 198.36767241 173.24601643 162.64946177 193.31777358\n",
      " 191.53802295 284.13478714 279.30688474 216.0070265  210.08517801\n",
      " 216.22213925 157.01489819 224.06561179 189.05840605 103.56829281\n",
      " 178.70442926 111.81492124 290.99913121 182.64959461  79.33602602\n",
      "  86.33287509 249.15238929 174.51439576 122.10645431 146.27099383\n",
      " 170.6555544  183.50018707 163.36970989 157.03563376 144.42617093\n",
      " 125.30179325 177.50072942 104.57821235 132.1746674   95.06145678\n",
      " 249.9007786   86.24033937  62.00077469 156.81087903 192.3231713\n",
      " 133.85292727  93.67456315 202.49458467  52.53953733 174.82926235\n",
      " 196.9141296  118.06646574 235.3011088  165.09286707 160.41863314\n",
      " 162.37831419 254.05718804 257.23616403 197.50578991 184.06609359\n",
      "  58.62043851 194.3950396  110.77475548 142.20916765 128.82725506\n",
      " 180.12844365 211.26415225 169.59711427 164.34167693 136.2363478\n",
      " 174.50905908  74.67649224 246.29542114 114.14131338 111.54358708\n",
      " 140.02313284 109.99647408  91.37269237 163.01389345  75.16389857\n",
      " 254.05755095  53.47055785  98.48060512 100.66268306 258.58885744\n",
      " 170.67482041  61.91866052 182.3042492  171.26913027 189.19307553\n",
      " 187.18384852  87.12032949 148.37816611 251.35898288 199.69712357\n",
      " 283.63722409  50.85577124 172.14848891 204.06179478 174.16816194\n",
      " 157.93027543 150.50201654 232.9761832  121.5808709  164.54891787\n",
      " 172.67742636 226.78005938 149.46967223  99.14026374  80.43680779\n",
      " 140.15557121 191.90593837 199.27952034 153.63210613 171.80130949\n",
      " 112.11314588 162.60650576 129.8448476  258.02898298 100.70869427\n",
      " 115.87611124 122.53790409 218.17749233  60.94590955 131.09513588\n",
      " 119.48417359  52.60848094 193.01802803 101.05169913 121.22505534\n",
      " 211.8588945   53.44819015]\n",
      "==============================\n",
      "Mean squared error between your prediction from numpy and the target is 2859.6903987680657\n",
      "==============================\n",
      "Mean squared error between your sklearn prediction and the target is 2859.6903987680657\n"
     ]
    }
   ],
   "source": [
    "# Use this block to answer the questions\n",
    "\n",
    "# w = w.reshape((len(w),1)) # make w a column vector\n",
    "wc = w.reshape((len(w),1)) # make w a column vector\n",
    "\n",
    "#part A\n",
    "pred_numpy = wc.T @ X.T\n",
    "print('MSE Numpy is:', pred_numpy)\n",
    "\n",
    "print('==============================')\n",
    "\n",
    "#part B\n",
    "pred_sklean = reg.predict(ds.data)\n",
    "print('MSE Sklearn is:', pred_sklean)\n",
    "\n",
    "print('==============================')\n",
    "from sklearn.metrics import mean_squared_error\n",
    "\n",
    "#part C\n",
    "print('Mean squared error between your prediction from numpy and the target is'\n",
    "      ,mean_squared_error(ds.target.reshape((1,len(ds.target))), pred_numpy) )\n",
    "\n",
    "print('==============================')\n",
    "#part D\n",
    "print('Mean squared error between your sklearn prediction and the target is'\n",
    "      ,mean_squared_error(ds.target, pred_sklean))\n"
   ]
  },
  {
   "cell_type": "markdown",
   "metadata": {},
   "source": [
    "________________________________________________________________________________________________________\n",
    "<a id=\"classification\"></a>\n",
    "<a href=\"#top\">Back to Top</a>\n",
    "## Using Linear Classification\n",
    "Now lets use the code you created to make a classifier with linear boundaries. Run the following code in order to load the iris dataset."
   ]
  },
  {
   "cell_type": "code",
   "execution_count": 8,
   "metadata": {},
   "outputs": [
    {
     "name": "stdout",
     "output_type": "stream",
     "text": [
      "features shape: (150, 4)\n",
      "original number of classes: 3\n",
      "new number of classes: 2\n"
     ]
    }
   ],
   "source": [
    "from sklearn.datasets import load_iris\n",
    "import numpy as np\n",
    "\n",
    "# this will overwrite the diabetes dataset\n",
    "ds = load_iris()\n",
    "print('features shape:', ds.data.shape) # there are 150 instances and 4 features per instance\n",
    "print('original number of classes:', len(np.unique(ds.target)))\n",
    "\n",
    "# now let's make this a binary classification task\n",
    "ds.target = ds.target>1\n",
    "print ('new number of classes:', len(np.unique(ds.target)))"
   ]
  },
  {
   "cell_type": "markdown",
   "metadata": {},
   "source": [
    "________________________________________________________________________________________________________\n",
    "\n",
    "**Exercise 4:** Now use linear regression to come up with a set of weights, `w`, that predict the class value. You can use numpy or sklearn, whichever you prefer. This is exactly like you did before for the *diabetes* dataset. However, instead of regressing to continuous values, you are just regressing to the integer value of the class (0 or 1), like we talked about in the video (using the hard limit function). \n",
    " - **Note**: If you are using numpy, remember to account for the bias term when constructing the feature matrix, `X`.\n",
    " "
   ]
  },
  {
   "cell_type": "code",
   "execution_count": 9,
   "metadata": {},
   "outputs": [
    {
     "name": "stdout",
     "output_type": "stream",
     "text": [
      "model coefficients are:  [-0.04587608  0.20276839  0.00398791  0.55177932]\n",
      "==============================\n",
      "model intercept is  -0.6952818633256037\n"
     ]
    }
   ],
   "source": [
    "# write your code here and print the values of the weights \n",
    "\n",
    "from sklearn.linear_model import LinearRegression\n",
    "\n",
    "\n",
    "reg = LinearRegression()\n",
    "reg.fit(ds.data, ds.target)\n",
    "\n",
    "\n",
    "# Print the weights of the linear classifier.\n",
    "print('model coefficients are: ',reg.coef_)\n",
    "print('==============================')\n",
    "print('model intercept is ', reg.intercept_)"
   ]
  },
  {
   "cell_type": "markdown",
   "metadata": {},
   "source": [
    "________________________________________________________________________________________________________\n",
    "\n",
    "**Exercise 5:** Finally, use a hard decision function on the output of the linear regression to make this a binary classifier. This is just like we talked about in the video, where the output of the linear regression passes through a function: \n",
    "\n",
    "- $\\hat{y}=g(w^TX^T)$ where\n",
    " - $g(w^TX^T)$ for $w^TX^T < \\alpha$ maps the predicted class to `0` \n",
    " - $g(w^TX^T)$ for $w^TX^T \\geq \\alpha$ maps the predicted class to `1`. \n",
    "\n",
    "Here, alpha is a threshold for deciding the class. \n",
    "\n",
    "**Question 3**: What value for $\\alpha$ makes the most sense? What is the accuracy of the classifier given the $\\alpha$ you chose? \n",
    "\n",
    "Note: You can calculate the accuracy with the following code: `accuracy = float(sum(yhat==y)) / len(y)` assuming you choose variable names `y` and `yhat` for the target and prediction, respectively."
   ]
  },
  {
   "cell_type": "code",
   "execution_count": 12,
   "metadata": {
    "scrolled": false
   },
   "outputs": [
    {
     "name": "stdout",
     "output_type": "stream",
     "text": [
      "[0.   0.   0.   0.01 0.01 0.01 0.01 0.02 0.02 0.03 0.03 0.04 0.04 0.07\n",
      " 0.07 0.12 0.12 0.24 0.24 0.32 0.32 1.  ]\n",
      "[0.   0.02 0.54 0.54 0.58 0.62 0.76 0.76 0.84 0.84 0.88 0.88 0.92 0.92\n",
      " 0.94 0.94 0.96 0.96 0.98 0.98 1.   1.  ]\n",
      "[ 2.10815109  1.10815109  0.73866296  0.69525283  0.65589553  0.65483055\n",
      "  0.62810248  0.61966666  0.59094004  0.58642458  0.57591699  0.56361793\n",
      "  0.520602    0.50173181  0.48869229  0.46310453  0.43145762  0.35214527\n",
      "  0.34689518  0.32562181  0.32316062 -0.26463888]\n"
     ]
    },
    {
     "data": {
      "text/plain": [
       "Text(0.5, 1.0, 'ROC curve')"
      ]
     },
     "execution_count": 12,
     "metadata": {},
     "output_type": "execute_result"
    },
    {
     "data": {
      "image/png": "[encoded data removed]",
      "text/plain": [
       "<Figure size 1440x1440 with 1 Axes>"
      ]
     },
     "metadata": {
      "needs_background": "light"
     },
     "output_type": "display_data"
    }
   ],
   "source": [
    "from sklearn.metrics import roc_curve\n",
    "import numpy as np\n",
    "import matplotlib.pyplot\n",
    "import matplotlib.pyplot as plt\n",
    "\n",
    "X = np.hstack((ds.data,np.ones((150,1))))\n",
    "\n",
    "y = ds.target\n",
    "\n",
    "w = np.linalg.inv(X.T @ X) @ X.T @ds.target\n",
    "\n",
    "wc = w.reshape((len(w),1))\n",
    "\n",
    "pred_numpy = wc.T @ X.T\n",
    "\n",
    "y = ds.target.reshape((len(ds.target),1))\n",
    "pred = pred_numpy.reshape(150,1)\n",
    "fpr, tpr, thresholds = roc_curve(y, pred)\n",
    "threshold = np.round(thresholds, decimals=2)\n",
    "print(fpr)\n",
    "print(tpr)\n",
    "print(thresholds)\n",
    "\n",
    "\n",
    "plt.figure(figsize=(20,20))\n",
    "plt.plot(fpr,tpr)\n",
    "labels = [threshold[i] for i in range(22)]\n",
    "for i in range (22):\n",
    "    xy=(fpr[i],tpr[i])\n",
    "    plt.annotate(labels[i],xy)\n",
    "\n",
    "plt.xlabel('False Positive Rate')\n",
    "plt.ylabel('True Positive Rate')\n",
    "plt.title('ROC curve')"
   ]
  },
  {
   "cell_type": "code",
   "execution_count": 13,
   "metadata": {},
   "outputs": [
    {
     "name": "stdout",
     "output_type": "stream",
     "text": [
      "value for  𝛼  makes the most sense is:  0.52\n",
      "==============================\n",
      "accuracy of the classifier given the 𝛼 :  0.9466666666666667\n"
     ]
    }
   ],
   "source": [
    "import numpy as np\n",
    "yhatarr = np.zeros(150)\n",
    "pred = w.T @ X.T  \n",
    "y = ds.target\n",
    "\n",
    "accuracy = 0\n",
    "for i in range(len(yhatarr)):\n",
    "    yhatarr[i] = 0 if pred[i] < 0.520602 else 1\n",
    "    accuracy = float(sum(yhatarr[i] == y[i] for i in range(len(y)))) / len(y)\n",
    "    \n",
    "print('value for  𝛼  makes the most sense is: ','0.52')\n",
    "print('==============================')\n",
    "print('accuracy of the classifier given the 𝛼 : ',accuracy)"
   ]
  },
  {
   "cell_type": "markdown",
   "metadata": {},
   "source": [
    "If I just look at the ROC curve, we can see that the label of thresholds, 0.52 is the best thresholds. I learn it from EMSI7357 and we can decided which thresholds is good from the ROC plot. It have high true positive rate and low false positive rate. The accuracy is 0.9467, which is good."
   ]
  },
  {
   "cell_type": "markdown",
   "metadata": {},
   "source": [
    "________________________________________________________________________________________________________\n",
    "\n",
    "That's all! Please **save (make sure you saved!!!) and upload your rendered notebook** and please include **team member names** in the notebook submission."
   ]
  }
 ],
 "metadata": {
  "anaconda-cloud": {},
  "kernelspec": {
   "display_name": "Python 3",
   "language": "python",
   "name": "python3"
  },
  "language_info": {
   "codemirror_mode": {
    "name": "ipython",
    "version": 3
   },
   "file_extension": ".py",
   "mimetype": "text/x-python",
   "name": "python",
   "nbconvert_exporter": "python",
   "pygments_lexer": "ipython3",
   "version": "3.7.3"
  }
 },
 "nbformat": 4,
 "nbformat_minor": 2
}
