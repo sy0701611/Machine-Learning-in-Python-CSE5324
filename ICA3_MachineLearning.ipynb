{
 "cells": [
  {
   "cell_type": "code",
   "execution_count": 109,
   "metadata": {},
   "outputs": [
    {
     "data": {
      "text/html": [
       "<link href='https://fonts.googleapis.com/css?family=Passion+One' rel='stylesheet' type='text/css'><style>div.attn { font-family: 'Helvetica Neue'; font-size: 30px; line-height: 40px; color: #FFFFFF; text-align: center; margin: 30px 0; border-width: 10px 0; border-style: solid; border-color: #5AAAAA; padding: 30px 0; background-color: #DDDDFF; }hr { border: 0; background-color: #ffffff; border-top: 1px solid black; }hr.major { border-top: 10px solid #5AAA5A; }hr.minor { border: none; background-color: #ffffff; border-top: 5px dotted #CC3333; }div.bubble { width: 65%; padding: 20px; background: #DDDDDD; border-radius: 15px; margin: 0 auto; font-style: italic; color: #f00; }em { color: #AAA; }div.c1{visibility:hidden;margin:0;height:0;}div.note{color:red;}</style>"
      ],
      "text/plain": [
       "<IPython.core.display.HTML object>"
      ]
     },
     "execution_count": 109,
     "metadata": {},
     "output_type": "execute_result"
    }
   ],
   "source": [
    "#  Ebnable HTML/CSS \n",
    "from IPython.core.display import HTML\n",
    "HTML(\"<link href='https://fonts.googleapis.com/css?family=Passion+One' rel='stylesheet' type='text/css'><style>div.attn { font-family: 'Helvetica Neue'; font-size: 30px; line-height: 40px; color: #FFFFFF; text-align: center; margin: 30px 0; border-width: 10px 0; border-style: solid; border-color: #5AAAAA; padding: 30px 0; background-color: #DDDDFF; }hr { border: 0; background-color: #ffffff; border-top: 1px solid black; }hr.major { border-top: 10px solid #5AAA5A; }hr.minor { border: none; background-color: #ffffff; border-top: 5px dotted #CC3333; }div.bubble { width: 65%; padding: 20px; background: #DDDDDD; border-radius: 15px; margin: 0 auto; font-style: italic; color: #f00; }em { color: #AAA; }div.c1{visibility:hidden;margin:0;height:0;}div.note{color:red;}</style>\")"
   ]
  },
  {
   "cell_type": "markdown",
   "metadata": {},
   "source": [
    "___\n",
    "Enter Team Member Names here (*double click to edit*):\n",
    "\n",
    "- Name 1: Yang shen\n",
    "- Name 2:\n",
    "- Name 3:\n",
    "\n",
    "___"
   ]
  },
  {
   "cell_type": "markdown",
   "metadata": {},
   "source": [
    "# In Class Assignment Three\n",
    "In the following assignment you will be asked to fill in python code and derivations for a number of different problems. Please read all instructions carefully and turn in the rendered notebook (or HTML of the rendered notebook)  before the end of class (or right after class). The initial portion of this notebook is given before class and the remainder is given during class. Please answer the initial questions before class, to the best of your ability. Once class has started you may rework your answers as a team for the initial part of the assignment. \n",
    "\n",
    "<a id=\"top\"></a>\n",
    "## Contents\n",
    "* <a href=\"#Loading\">Loading the Data</a>\n",
    "* <a href=\"#ff\">Defining a Feedforward Network in Python</a>\n",
    "* <a href=\"#bp\">Back Propagation in Python</a>\n",
    "* <a href=\"#vis\">Visualizing Back Propagation</a>\n",
    "________________________________________________________________________________________________________\n",
    "\n",
    "<a id=\"Loading\"></a>\n",
    "<a href=\"#top\">Back to Top</a>\n",
    "## Loading the Data\n",
    "Please run the following code to read in the \"digits\" dataset from sklearn's data loading module. This data contains hand written digits for the characters 0-9.\n",
    "\n",
    "This will load the data into the variable `ds`. `ds` is a `bunch` object with fields like `ds.data` and `ds.target`. The field `ds.data` is a numpy matrix of the continuous features in the dataset. **The object is not a pandas dataframe. It is a numpy matrix.** Each row is a set of observed instances, each column is a different feature. It also has a field called `ds.target` that is an integer value we are trying to predict (i.e., a specific integer represents a specific person). Each entry in `ds.target` is a label for each row of the `ds.data` matrix. "
   ]
  },
  {
   "cell_type": "code",
   "execution_count": 110,
   "metadata": {},
   "outputs": [
    {
     "name": "stdout",
     "output_type": "stream",
     "text": [
      "(1797, 64)\n",
      "(1797,)\n",
      "-0.5 0.5\n",
      "[0 1 2 3 4 5 6 7 8 9]\n"
     ]
    }
   ],
   "source": [
    "# lets load up the handwritten digit dataset\n",
    "from sklearn.datasets import load_digits\n",
    "from sklearn.metrics import accuracy_score\n",
    "from sklearn.preprocessing import StandardScaler\n",
    "import numpy as np\n",
    "\n",
    "ds = load_digits()\n",
    "X = ds.data/16.0-0.5 # normalize the data\n",
    "y = ds.target\n",
    "\n",
    "print(X.shape)\n",
    "print(y.shape)\n",
    "print(np.min(X),np.max(X))\n",
    "print(np.unique(y))"
   ]
  },
  {
   "cell_type": "code",
   "execution_count": 111,
   "metadata": {},
   "outputs": [
    {
     "data": {
      "image/png": "[encoded data removed]",
      "text/plain": [
       "<Figure size 432x288 with 10 Axes>"
      ]
     },
     "metadata": {},
     "output_type": "display_data"
    }
   ],
   "source": [
    "# reshape and print a few of the images in the digits dataset\n",
    "import matplotlib.pyplot as plt\n",
    "%matplotlib inline\n",
    "\n",
    "fig, ax = plt.subplots(nrows=2, ncols=5, sharex=True, sharey=True,)\n",
    "ax = ax.flatten()\n",
    "for i in range(10):\n",
    "    img = X[i].reshape(8, 8)\n",
    "    ax[i].imshow(img, cmap='Greys', interpolation='nearest')\n",
    "\n",
    "ax[0].set_xticks([])\n",
    "ax[0].set_yticks([])\n",
    "plt.show()"
   ]
  },
  {
   "cell_type": "markdown",
   "metadata": {},
   "source": [
    "____\n",
    "**Question 1:** For the digits dataset, what does each column in $\\mathbf{X}$ represent? What does each row in $\\mathbf{X}$ represent? What does each value in $\\mathbf{X}$ represent? What does each unique value of the target, $y$ represent?"
   ]
  },
  {
   "cell_type": "markdown",
   "metadata": {},
   "source": [
    "Enter you answer here (*double click to edit*)\n",
    "\n",
    "Each colunmn in X represents one feature of a image\n",
    "\n",
    "Each row in X represents one image\n",
    "\n",
    "Each value in X represents colour value of one pixel by rgb digital format\n",
    "\n",
    "Each unique value of the target y represents the one hand written number range from 1 to 9\n",
    "\n",
    "\n",
    "\n",
    "___"
   ]
  },
  {
   "cell_type": "markdown",
   "metadata": {},
   "source": [
    "____\n",
    "**Question 2:** For the digits dataset, we want to train a neural network with one hidden layer. The hidden layer will have 30 neurons. What will be the size of the matrices in each layer? That is, what is the size of $\\mathbf{W}^{(1)}$ and what is the size of $\\mathbf{W}^{(2)}$?"
   ]
  },
  {
   "cell_type": "markdown",
   "metadata": {},
   "source": [
    "\n",
    "\n",
    "Enter you answer here (*double click to edit*)\n",
    "\n",
    "the size of $\\mathbf{W}^{(1)}$ is (30, 65)\n",
    "\n",
    "the size of $\\mathbf{W}^{(2)}$ is (10, 31)\n",
    "\n",
    "\n",
    "___"
   ]
  },
  {
   "cell_type": "markdown",
   "metadata": {},
   "source": [
    "<a id=\"ff\"></a>\n",
    "<a href=\"#top\">Back to Top</a>\n",
    "\n",
    "<img src=\"https://raw.githubusercontent.com/eclarson/MachineLearningNotebooks/master/PDF_Slides/MultiLayerNetwork.png\" width=\"500\">\n",
    "\n",
    "\n",
    "# Defining a Feedforward Network\n",
    "\n",
    "Below we will setup the functions for use in a feedforward neural network **with two layers**. Take a quick look at the functions defined. There are a number of convenience functions including:\n",
    "- a function for the sigmoid calculation\n",
    "- a function to one hot encode the output\n",
    "- a function to add ones (for intercept/bias) terms on the row or column\n",
    "- an initialization function for initializing the weights\n",
    "\n",
    "A few functions are not yet implemented including:\n",
    "- a `fit` function\n",
    "- a `get_gradient` function"
   ]
  },
  {
   "cell_type": "code",
   "execution_count": 116,
   "metadata": {},
   "outputs": [],
   "source": [
    "# Example adapted from https://github.com/rasbt/python-machine-learning-book/blob/master/code/ch12/ch12.ipynb\n",
    "# Original Author: Sebastian Raschka\n",
    "\n",
    "# This is the optional book we use in the course, excellent intuitions and straightforward programming examples\n",
    "# please note, however, that this code has been manipulated to reflect our assumptions and notation.\n",
    "import numpy as np\n",
    "from scipy.special import expit\n",
    "import sys\n",
    "import pandas as pd\n",
    "\n",
    "# start with a simple base classifier, which can't be fit or predicted\n",
    "# it only has internal classes to be used by classes that will subclass it\n",
    "class TwoLayerPerceptronBase(object):\n",
    "    def __init__(self, n_hidden=30,\n",
    "                 C=0.0, epochs=500, eta=0.001, random_state=None):\n",
    "        np.random.seed(random_state)\n",
    "        self.n_hidden = n_hidden\n",
    "        self.l2_C = C\n",
    "        self.epochs = epochs\n",
    "        self.eta = eta\n",
    "        \n",
    "    @staticmethod\n",
    "    def _encode_labels(y):\n",
    "        \"\"\"Encode labels into one-hot representation\"\"\"\n",
    "        onehot = pd.get_dummies(y).values.T\n",
    "            \n",
    "        return onehot\n",
    "\n",
    "    def _initialize_weights(self):\n",
    "        \"\"\"Initialize weights with small random numbers.\"\"\"\n",
    "        W1_num_elems = (self.n_features_ + 1)*self.n_hidden\n",
    "        W1 = np.random.uniform(-1.0, 1.0, size=W1_num_elems)\n",
    "        W1 = W1.reshape(self.n_hidden, self.n_features_ + 1) # reshape to be W\n",
    "        \n",
    "        W2_num_elems = (self.n_hidden + 1)*self.n_output_\n",
    "        W2 = np.random.uniform(-1.0, 1.0, size=W2_num_elems)\n",
    "        W2 = W2.reshape(self.n_output_, self.n_hidden + 1)\n",
    "        return W1, W2\n",
    "    \n",
    "    @staticmethod\n",
    "    def _sigmoid(z):\n",
    "        \"\"\"Use scipy.special.expit to avoid overflow\"\"\"\n",
    "        # 1.0 / (1.0 + np.exp(-z))\n",
    "        return expit(z)\n",
    "    \n",
    "    @staticmethod\n",
    "    def _add_bias_unit(X, how='column'):\n",
    "        \"\"\"Add bias unit (column or row of 1s) to array at index 0\"\"\"\n",
    "        if how == 'column':\n",
    "            ones = np.ones((X.shape[0], 1))\n",
    "            X_new = np.hstack((ones, X))\n",
    "        elif how == 'row':\n",
    "            ones = np.ones((1, X.shape[1]))\n",
    "            X_new = np.vstack((ones, X))\n",
    "        return X_new\n",
    "    \n",
    "    def _feedforward(self, X, W1, W2):\n",
    "        \"\"\"Compute feedforward step\n",
    "        -----------\n",
    "        X : Input layer with original features.\n",
    "        W1: Weight matrix for input layer -> hidden layer.\n",
    "        W2: Weight matrix for hidden layer -> output layer.\n",
    "        ----------\n",
    "        a1-a3 : activations into layer (or output layer)\n",
    "        z1-z2 : layer inputs \n",
    "\n",
    "        \"\"\"\n",
    "        A1 = self._add_bias_unit(X.T, how='row')\n",
    "        Z1 = W1 @ A1\n",
    "        A2 = self._sigmoid(Z1)\n",
    "        \n",
    "        A2 = self._add_bias_unit(A2, how='row')\n",
    "        Z2 = W2 @ A2\n",
    "        A3 = self._sigmoid(Z2)\n",
    "        return A1, Z1, A2, Z2, A3\n",
    "    \n",
    "    def predict(self, X):\n",
    "        \"\"\"Predict class labels\"\"\"\n",
    "        _, _, _, _, A3 = self._feedforward(X, self.W1, self.W2)\n",
    "        y_pred = np.argmax(A3, axis=0)\n",
    "        return y_pred"
   ]
  },
  {
   "cell_type": "markdown",
   "metadata": {},
   "source": [
    "___\n",
    "<img src=\"https://raw.githubusercontent.com/eclarson/MachineLearningNotebooks/master/PDF_Slides/MultiLayerNetwork.png\" width=\"500\">\n",
    "\n",
    "Recall from the videos that all instances in $\\mathbf{X}$ can be fed into the network with a single matrix multiplication operation for each intermediate vector, $\\mathbf{a}^{(l)}$ and $\\mathbf{z}^{(l)}$. When we feed all the instances, $\\mathbf{X}$, the intermediate vectors, $\\mathbf{a}^{(l)}$ and $\\mathbf{z}^{(l)}$ get stacked together to form matrices, $\\mathbf{A}^{(l)}$ and $\\mathbf{Z}^{(l)}$. This is already done for you in the `_feedforward` function defined above.\n",
    "\n",
    "**Question 3:**\n",
    "For the digits dataset we are using and a network with 30 neurons in the hidden layer, what are the sizes of:\n",
    "- **Part A**: the intermediate vectors, $\\mathbf{a}^{(1)}$ and $\\mathbf{a}^{(2)}$\n",
    "- **Part B**: the intermediate vectors, $\\mathbf{z}^{(1)}$ and $\\mathbf{z}^{(2)}$\n",
    "- **Part C**: the intermediate matrices, $\\mathbf{A}^{(1)}$ and $\\mathbf{A}^{(2)}$\n",
    "- **Part D**: the intermediate matrices, $\\mathbf{Z}^{(1)}$ and $\\mathbf{Z}^{(2)}$\n",
    "\n"
   ]
  },
  {
   "cell_type": "markdown",
   "metadata": {},
   "source": [
    "*Enter you answer here (double click)*\n",
    "\n",
    "\n",
    "A. the size of $a^{(1)}$ is (65, 1) and the size of $a^{(2)}$ is (31, 1)\n",
    "\n",
    "\n",
    "B. the size of $z^{(1)}$ is (30, 1) and the size of $z^{(2)}$ is (10, 1)\n",
    "\n",
    "\n",
    "C. the size of $\\mathbf{A}^{(1)}$ is (65, 1797) and the size of $\\mathbf{A}^{(2)}$ is (31, 1797)\n",
    "\n",
    "\n",
    "D. the size of $\\mathbf{Z}^{(1)}$ is (30, 1797) and the size of $\\mathbf{Z}^{(2)}$ is (10, 1797)\n",
    "\n",
    "___"
   ]
  },
  {
   "cell_type": "markdown",
   "metadata": {},
   "source": [
    "___\n",
    "<a id=\"bp\"></a>\n",
    "<a href=\"#top\">Back to Top</a>\n",
    "\n",
    "# Back Propagation in Python\n",
    "Now let's add in the back propagation steps from the video. First, we need to add in a `fit` function that will update all the trainable weights in the $\\mathbf{W}^{(l)}$ matrices. Because this is a two layer network we have layers $\\mathbf{W}^{(1)}$ and $\\mathbf{W}^{(2)}$. Look at the given `fit` function written below for you. \n",
    "\n",
    "The `fit` function below will update matrices using steepest descent. And the update equation is:\n",
    "$$  w_{i,j}^{(l)} \\leftarrow w_{i,j}^{(l)} - \\eta \\frac{\\partial J(\\mathbf{W})}{\\partial w_{i,j}^{(l)}}$$\n",
    "\n",
    "for each value in each matrix, $\\mathbf{W}^{(l)}$. \n",
    "\n",
    "The objective function is simply the mean squared error:\n",
    "$$ J(\\mathbf{W}) = \\sum_{k=1}^M (\\mathbf{y}^{(k)}-[\\mathbf{a}^{(L)}]^{(k)})^2 $$\n",
    "\n",
    "where $L$ is the output of the last layer. For our two layer implementation, $L=3$."
   ]
  },
  {
   "cell_type": "code",
   "execution_count": 117,
   "metadata": {},
   "outputs": [],
   "source": [
    "class TwoLayerPerceptron(TwoLayerPerceptronBase):\n",
    "    def _get_gradient(self, A1, A2, A3, Z1, Z2, Y, W1, W2):\n",
    "        \"\"\" Compute gradient step using backpropagation.\n",
    "        \"\"\"\n",
    "        \n",
    "        #---------------------------------\n",
    "        # ENTER YOUR CODE HERE to\n",
    "        # calculate the sensitivities\n",
    "    \n",
    "        V2 = -2*(Y - A3)*A3*(1-A3)\n",
    "        V1 = A2*(1-A2) * (W2.T @V2)\n",
    "        #---------------------------------\n",
    "        \n",
    "        grad2 = V2 @ A2.T\n",
    "        grad1 = V1[1:,:] @ A1.T # don't include added bias term in recurrence relation\n",
    "\n",
    "        return grad1, grad2\n",
    "    \n",
    "    def fit(self, X, y):\n",
    "        \"\"\" Learn weights from training data.\n",
    "            Input X should be a matrix with separate instances\n",
    "            in each row, and separate features in each column.\n",
    "            The target variable, y, should be integer values \n",
    "            starting from zero, that represent the unique classes.\n",
    "        \"\"\"\n",
    "        \n",
    "        # copy over the data and one-hot-encode Y\n",
    "        X_data, y_data = X.copy(), y.copy()\n",
    "        Y_enc = self._encode_labels(y)\n",
    "        \n",
    "        # init weights and setup matrices\n",
    "        self.n_features_ = X_data.shape[1]\n",
    "        self.n_output_ = Y_enc.shape[0]\n",
    "        self.W1, self.W2 = self._initialize_weights()\n",
    "\n",
    "        #------------------------------------------\n",
    "        # ENTER YOUR CODE HERE here to initialize \n",
    "        # self.grad_w1_ and self.grad_w2_\n",
    "        self.grad_w11_ =[]\n",
    "        self.grad_w22_ = []\n",
    "        self.grad_w1_ =[]\n",
    "        self.grad_w2_ = []\n",
    "        #------------------------------------------\n",
    "        \n",
    "        # run training for specified number of iterations\n",
    "        for i in range(self.epochs):\n",
    "\n",
    "            # feedforward all instances\n",
    "            A1, Z1, A2, Z2, A3 = self._feedforward(X_data,self.W1,self.W2)\n",
    "\n",
    "            # compute gradient via backpropagation\n",
    "            # WE HAVE NOT YET WRITTEN THE GRADIENT FUNCTION YET\n",
    "            grad1, grad2 = self._get_gradient(A1=A1, A2=A2, A3=A3, Z1=Z1, Z2=Z2, Y=Y_enc,\n",
    "                                              W1=self.W1, W2=self.W2)\n",
    "            \n",
    "            #------------------------------------------\n",
    "            # ENTER YOUR CODE HERE to keep track of the \n",
    "            # magnitude of gradients grad_w1_ and grad_w2_\n",
    "            #append all values together\n",
    "            self.grad_w11_.append(np.mean(grad1)) \n",
    "            self.grad_w22_.append(np.mean(grad2))\n",
    "            #reshape the append to a array format\n",
    "            self.grad_w1_ = np.array(self.grad_w11_).reshape(len(self.grad_w11_))\n",
    "            self.grad_w2_ = np.array(self.grad_w22_).reshape(len(self.grad_w22_))\n",
    "            #------------------------------------------\n",
    "\n",
    "            # update each matrix to minimize objective function\n",
    "            self.W1 -= self.eta * grad1\n",
    "            self.W2 -= self.eta * grad2\n",
    "            \n",
    "\n",
    "        return self\n"
   ]
  },
  {
   "cell_type": "markdown",
   "metadata": {},
   "source": [
    "**Exercise 1:** In the code above, add class variables, `grad_w1_` and `grad_w2_` that save the average magnitude of the gradient for each layer at every epoch. That is, if you ran the `fit` function for 50 epochs, `grad_w1_` and `grad_w2_` would be 50 element vectors when training is complete.\n",
    "\n",
    "When training is completed, `grad_w1_` and `grad_w2_` should be accessible using dot notation from the class object, as shown in the example syntax below. \n",
    "\n",
    "```\n",
    "clf = TwoLayerPerceptron()\n",
    "clf.fit(X,y)\n",
    "clf.grad_w1_ \n",
    "clf.grad_w2_\n",
    "```\n",
    "___"
   ]
  },
  {
   "cell_type": "code",
   "execution_count": 75,
   "metadata": {
    "scrolled": true
   },
   "outputs": [
    {
     "data": {
      "text/plain": [
       "array([ 1.46883000e+02,  2.23069737e+01, -2.17659595e+00, -2.43848717e+00,\n",
       "       -2.58203558e+00, -2.63298090e+00, -2.62795562e+00, -2.61856882e+00,\n",
       "       -2.63413780e+00, -2.66217064e+00, -2.66972675e+00, -2.62827391e+00,\n",
       "       -2.52580812e+00, -2.37196432e+00, -2.19332406e+00, -2.01719463e+00,\n",
       "       -1.85722518e+00, -1.71290573e+00, -1.57770285e+00, -1.44593304e+00,\n",
       "       -1.31546633e+00, -1.18753449e+00, -1.06519784e+00, -9.51595166e-01,\n",
       "       -8.48727390e-01, -7.57059709e-01, -6.75784936e-01, -6.03383816e-01,\n",
       "       -5.38164726e-01, -4.78623772e-01, -4.23604969e-01, -3.72312052e-01,\n",
       "       -3.24240045e-01, -2.79081998e-01, -2.36644196e-01, -1.96783347e-01,\n",
       "       -1.59366369e-01, -1.24247749e-01, -9.12586353e-02, -6.02030592e-02,\n",
       "       -3.08582797e-02, -2.97752176e-03,  2.37057403e-02,  4.94721695e-02,\n",
       "        7.46094194e-02,  9.94030174e-02,  1.24124841e-01,  1.49019037e-01,\n",
       "        1.74285818e-01,  2.00064469e-01,  2.26417850e-01,  2.53321457e-01,\n",
       "        2.80660198e-01,  3.08235132e-01,  3.35780521e-01,  3.62989037e-01,\n",
       "        3.89540889e-01,  4.15131714e-01,  4.39494805e-01,  4.62415145e-01,\n",
       "        4.83735063e-01,  5.03353051e-01,  5.21218081e-01,  5.37321712e-01,\n",
       "        5.51689666e-01,  5.64373901e-01,  5.75445647e-01,  5.84989544e-01,\n",
       "        5.93098837e-01,  5.99871528e-01,  6.05407345e-01,  6.09805414e-01,\n",
       "        6.13162512e-01,  6.15571806e-01,  6.17121978e-01,  6.17896665e-01,\n",
       "        6.17974140e-01,  6.17427181e-01,  6.16323093e-01,  6.14723814e-01,\n",
       "        6.12686115e-01,  6.10261841e-01,  6.07498181e-01,  6.04437967e-01,\n",
       "        6.01119974e-01,  5.97579214e-01,  5.93847236e-01,  5.89952410e-01,\n",
       "        5.85920191e-01,  5.81773382e-01,  5.77532367e-01,  5.73215339e-01,\n",
       "        5.68838504e-01,  5.64416270e-01,  5.59961427e-01,  5.55485303e-01,\n",
       "        5.50997910e-01,  5.46508081e-01,  5.42023587e-01,  5.37551249e-01,\n",
       "        5.33097036e-01,  5.28666156e-01,  5.24263137e-01,  5.19891897e-01,\n",
       "        5.15555816e-01,  5.11257790e-01,  5.07000283e-01,  5.02785383e-01,\n",
       "        4.98614835e-01,  4.94490086e-01,  4.90412317e-01,  4.86382476e-01,\n",
       "        4.82401300e-01,  4.78469349e-01,  4.74587017e-01,  4.70754561e-01,\n",
       "        4.66972115e-01,  4.63239701e-01,  4.59557252e-01,  4.55924618e-01,\n",
       "        4.52341575e-01,  4.48807843e-01,  4.45323087e-01,  4.41886925e-01,\n",
       "        4.38498940e-01,  4.35158681e-01,  4.31865669e-01,  4.28619402e-01,\n",
       "        4.25419361e-01,  4.22265009e-01,  4.19155797e-01,  4.16091167e-01,\n",
       "        4.13070551e-01,  4.10093379e-01,  4.07159072e-01,  4.04267051e-01,\n",
       "        4.01416737e-01,  3.98607547e-01,  3.95838901e-01,  3.93110220e-01,\n",
       "        3.90420925e-01,  3.87770442e-01,  3.85158199e-01,  3.82583627e-01,\n",
       "        3.80046162e-01,  3.77545241e-01,  3.75080309e-01,  3.72650813e-01,\n",
       "        3.70256207e-01,  3.67895946e-01,  3.65569494e-01,  3.63276318e-01,\n",
       "        3.61015891e-01,  3.58787692e-01,  3.56591203e-01,  3.54425915e-01,\n",
       "        3.52291322e-01,  3.50186925e-01,  3.48112230e-01,  3.46066750e-01,\n",
       "        3.44050004e-01,  3.42061516e-01,  3.40100816e-01,  3.38167442e-01,\n",
       "        3.36260937e-01,  3.34380849e-01,  3.32526735e-01,  3.30698156e-01,\n",
       "        3.28894680e-01,  3.27115883e-01,  3.25361344e-01,  3.23630652e-01,\n",
       "        3.21923400e-01,  3.20239187e-01,  3.18577621e-01,  3.16938312e-01,\n",
       "        3.15320881e-01,  3.13724951e-01,  3.12150153e-01,  3.10596125e-01,\n",
       "        3.09062507e-01,  3.07548950e-01,  3.06055106e-01,  3.04580636e-01,\n",
       "        3.03125204e-01,  3.01688481e-01,  3.00270144e-01,  2.98869872e-01,\n",
       "        2.97487353e-01,  2.96122276e-01,  2.94774338e-01,  2.93443238e-01,\n",
       "        2.92128683e-01,  2.90830382e-01,  2.89548047e-01,  2.88281399e-01,\n",
       "        2.87030157e-01,  2.85794050e-01,  2.84572807e-01,  2.83366161e-01,\n",
       "        2.82173852e-01,  2.80995619e-01,  2.79831209e-01,  2.78680371e-01,\n",
       "        2.77542855e-01,  2.76418418e-01,  2.75306818e-01,  2.74207818e-01,\n",
       "        2.73121184e-01,  2.72046684e-01,  2.70984090e-01,  2.69933177e-01,\n",
       "        2.68893725e-01,  2.67865514e-01,  2.66848329e-01,  2.65841959e-01,\n",
       "        2.64846195e-01,  2.63860831e-01,  2.62885665e-01,  2.61920498e-01,\n",
       "        2.60965133e-01,  2.60019378e-01,  2.59083044e-01,  2.58155945e-01,\n",
       "        2.57237896e-01,  2.56328720e-01,  2.55428240e-01,  2.54536283e-01,\n",
       "        2.53652678e-01,  2.52777261e-01,  2.51909868e-01,  2.51050339e-01,\n",
       "        2.50198519e-01,  2.49354255e-01,  2.48517397e-01,  2.47687799e-01,\n",
       "        2.46865320e-01,  2.46049818e-01,  2.45241160e-01,  2.44439211e-01,\n",
       "        2.43643844e-01,  2.42854931e-01,  2.42072350e-01,  2.41295981e-01,\n",
       "        2.40525709e-01,  2.39761420e-01,  2.39003004e-01,  2.38250354e-01,\n",
       "        2.37503366e-01,  2.36761939e-01,  2.36025976e-01,  2.35295380e-01,\n",
       "        2.34570061e-01,  2.33849927e-01,  2.33134893e-01,  2.32424874e-01,\n",
       "        2.31719789e-01,  2.31019558e-01,  2.30324106e-01,  2.29633357e-01,\n",
       "        2.28947241e-01,  2.28265687e-01,  2.27588628e-01,  2.26915998e-01,\n",
       "        2.26247736e-01,  2.25583779e-01,  2.24924068e-01,  2.24268547e-01,\n",
       "        2.23617159e-01,  2.22969851e-01,  2.22326570e-01,  2.21687267e-01,\n",
       "        2.21051892e-01,  2.20420398e-01,  2.19792739e-01,  2.19168870e-01,\n",
       "        2.18548749e-01,  2.17932333e-01,  2.17319582e-01,  2.16710456e-01,\n",
       "        2.16104916e-01,  2.15502926e-01,  2.14904449e-01,  2.14309449e-01,\n",
       "        2.13717893e-01,  2.13129746e-01,  2.12544976e-01,  2.11963552e-01,\n",
       "        2.11385441e-01,  2.10810615e-01,  2.10239042e-01,  2.09670694e-01,\n",
       "        2.09105543e-01,  2.08543561e-01,  2.07984721e-01,  2.07428996e-01,\n",
       "        2.06876360e-01,  2.06326788e-01,  2.05780254e-01,  2.05236733e-01,\n",
       "        2.04696201e-01,  2.04158635e-01,  2.03624011e-01,  2.03092305e-01,\n",
       "        2.02563496e-01,  2.02037559e-01,  2.01514474e-01,  2.00994218e-01,\n",
       "        2.00476771e-01,  1.99962109e-01,  1.99450213e-01,  1.98941062e-01,\n",
       "        1.98434634e-01,  1.97930910e-01,  1.97429870e-01,  1.96931493e-01,\n",
       "        1.96435760e-01,  1.95942652e-01,  1.95452148e-01,  1.94964230e-01,\n",
       "        1.94478879e-01,  1.93996075e-01,  1.93515800e-01,  1.93038036e-01,\n",
       "        1.92562765e-01,  1.92089967e-01,  1.91619624e-01,  1.91151720e-01,\n",
       "        1.90686235e-01,  1.90223153e-01,  1.89762455e-01,  1.89304124e-01,\n",
       "        1.88848143e-01,  1.88394494e-01,  1.87943161e-01,  1.87494125e-01,\n",
       "        1.87047372e-01,  1.86602883e-01,  1.86160642e-01,  1.85720632e-01,\n",
       "        1.85282837e-01,  1.84847241e-01,  1.84413827e-01,  1.83982580e-01,\n",
       "        1.83553482e-01,  1.83126519e-01,  1.82701674e-01,  1.82278932e-01,\n",
       "        1.81858278e-01,  1.81439694e-01,  1.81023167e-01,  1.80608681e-01,\n",
       "        1.80196221e-01,  1.79785771e-01,  1.79377317e-01,  1.78970843e-01,\n",
       "        1.78566335e-01,  1.78163779e-01,  1.77763159e-01,  1.77364461e-01,\n",
       "        1.76967671e-01,  1.76572775e-01,  1.76179757e-01,  1.75788605e-01,\n",
       "        1.75399304e-01,  1.75011840e-01,  1.74626200e-01,  1.74242370e-01,\n",
       "        1.73860336e-01,  1.73480084e-01,  1.73101602e-01,  1.72724876e-01,\n",
       "        1.72349893e-01,  1.71976639e-01,  1.71605103e-01,  1.71235270e-01,\n",
       "        1.70867129e-01,  1.70500666e-01,  1.70135868e-01,  1.69772725e-01,\n",
       "        1.69411222e-01,  1.69051348e-01,  1.68693090e-01,  1.68336437e-01,\n",
       "        1.67981376e-01,  1.67627896e-01,  1.67275984e-01,  1.66925630e-01,\n",
       "        1.66576820e-01,  1.66229545e-01,  1.65883792e-01,  1.65539550e-01,\n",
       "        1.65196809e-01,  1.64855556e-01,  1.64515780e-01,  1.64177472e-01,\n",
       "        1.63840619e-01,  1.63505212e-01,  1.63171239e-01,  1.62838690e-01,\n",
       "        1.62507555e-01,  1.62177823e-01,  1.61849483e-01,  1.61522527e-01,\n",
       "        1.61196942e-01,  1.60872720e-01,  1.60549851e-01,  1.60228324e-01,\n",
       "        1.59908131e-01,  1.59589260e-01,  1.59271703e-01,  1.58955451e-01,\n",
       "        1.58640493e-01,  1.58326821e-01,  1.58014425e-01,  1.57703295e-01,\n",
       "        1.57393424e-01,  1.57084802e-01,  1.56777420e-01,  1.56471270e-01,\n",
       "        1.56166342e-01,  1.55862627e-01,  1.55560118e-01,  1.55258806e-01,\n",
       "        1.54958683e-01,  1.54659739e-01,  1.54361968e-01,  1.54065360e-01,\n",
       "        1.53769907e-01,  1.53475602e-01,  1.53182437e-01,  1.52890404e-01,\n",
       "        1.52599494e-01,  1.52309701e-01,  1.52021016e-01,  1.51733432e-01,\n",
       "        1.51446942e-01,  1.51161537e-01,  1.50877212e-01,  1.50593958e-01,\n",
       "        1.50311768e-01,  1.50030635e-01,  1.49750553e-01,  1.49471513e-01,\n",
       "        1.49193509e-01,  1.48916535e-01,  1.48640583e-01,  1.48365647e-01,\n",
       "        1.48091720e-01,  1.47818795e-01,  1.47546866e-01,  1.47275926e-01,\n",
       "        1.47005970e-01,  1.46736990e-01,  1.46468980e-01,  1.46201935e-01,\n",
       "        1.45935847e-01,  1.45670712e-01,  1.45406522e-01,  1.45143272e-01,\n",
       "        1.44880956e-01,  1.44619568e-01,  1.44359103e-01,  1.44099554e-01,\n",
       "        1.43840915e-01,  1.43583182e-01,  1.43326349e-01,  1.43070410e-01,\n",
       "        1.42815359e-01,  1.42561192e-01,  1.42307902e-01,  1.42055485e-01,\n",
       "        1.41803936e-01,  1.41553248e-01,  1.41303417e-01,  1.41054438e-01,\n",
       "        1.40806306e-01,  1.40559016e-01,  1.40312563e-01,  1.40066941e-01,\n",
       "        1.39822147e-01,  1.39578175e-01,  1.39335020e-01,  1.39092679e-01,\n",
       "        1.38851145e-01,  1.38610415e-01,  1.38370484e-01,  1.38131347e-01,\n",
       "        1.37893000e-01,  1.37655439e-01,  1.37418658e-01,  1.37182655e-01,\n",
       "        1.36947423e-01,  1.36712960e-01,  1.36479261e-01,  1.36246322e-01,\n",
       "        1.36014138e-01,  1.35782705e-01,  1.35552020e-01,  1.35322078e-01])"
      ]
     },
     "execution_count": 75,
     "metadata": {},
     "output_type": "execute_result"
    }
   ],
   "source": [
    "clf = TwoLayerPerceptron()\n",
    "clf.fit(X,y)\n",
    "clf.grad_w1_ \n",
    "clf.grad_w2_"
   ]
  },
  {
   "cell_type": "markdown",
   "metadata": {},
   "source": [
    "## Adding the Gradient Calculation\n",
    "From the videos, recall that the the sensitivities, $\\mathbf{V}$, can be calculated as follows:\n",
    "\n",
    "$$ \\mathbf{V}^{(2)} = -2(\\mathbf{Y}-\\mathbf{A}^{(3)})*\\mathbf{A}^{(3)}*(1-\\mathbf{A}^{(3)}) $$\n",
    "$$ \\mathbf{V}^{(1)} =  \\mathbf{A}^{(2)} * (1-\\mathbf{A}^{(2)}) * [\\mathbf{W}^{(2)}]^T \\cdot \\mathbf{V}^{(2)}  $$\n",
    "\n",
    "Once we have these sensitivities, its easy to calculate the gradient of each layer. The gradient of the objective function with respect to the final layer $\\mathbf{W}^{(2)}$ can be calculated with:\n",
    "$$  \\frac{\\nabla J(\\mathbf{W})}{\\partial\\mathbf{W}^{(2)}} = \\mathbf{V}^{(2)}\\cdot [\\mathbf{A}^{(2)}]^T $$\n",
    "\n",
    "And the gradient of the objective function with respect to the first layer $\\mathbf{W}^{(2)}$ can be calculated with: \n",
    "$$  \\frac{\\nabla J(\\mathbf{W})}{\\partial\\mathbf{W}^{(1)}} = \\mathbf{V}^{(1)}\\cdot [\\mathbf{A}^{(1)}]^T $$\n",
    "\n",
    "___\n",
    "** Exercise 2:** In the code below, use numpy linear algebra functions to calculate the sensitivities at each layer, $\\mathbf{V}^{(1)}$ and $\\mathbf{V}^{(2)}$. This will complete the `_get_gradient` private method."
   ]
  },
  {
   "cell_type": "code",
   "execution_count": 78,
   "metadata": {},
   "outputs": [],
   "source": [
    "class TwoLayerPerceptronVect(TwoLayerPerceptron):\n",
    "    # just need a different gradient calculation\n",
    "    def _get_gradient(self, A1, A2, A3, Z1, Z2, Y, W1, W2):\n",
    "        \"\"\" Compute gradient step using backpropagation.\n",
    "        \"\"\"\n",
    "        \n",
    "        #---------------------------------\n",
    "        # ENTER YOUR CODE HERE to\n",
    "        # calculate the sensitivities\n",
    "    \n",
    "        V2 = -2*(Y - A3)*A3*(1-A3)\n",
    "        V1 = A2*(1-A2) * (W2.T @V2)\n",
    "        #---------------------------------\n",
    "        \n",
    "        grad2 = V2 @ A2.T\n",
    "        grad1 = V1[1:,:] @ A1.T # don't include added bias term in recurrence relation\n",
    "\n",
    "        return grad1, grad2\n",
    "    \n"
   ]
  },
  {
   "cell_type": "markdown",
   "metadata": {},
   "source": [
    "___\n",
    "<a id=\"vis\"></a>\n",
    "<a href=\"#top\">Back to Top</a>\n",
    "\n",
    "# Visualizing Back Propagation\n",
    "Now let's test the code you wrote above to perform gradient calculations and save the magnitude of the gradient at each epoch. Run the code in the cell below. If it runs and the accuracy is relatively high, it is likely that your sensitivity calculation above was written correctly.\n",
    "\n",
    "*If it does not run or the accuracy is low, there is probably something wrong with the sensitivity calculation. Try to fix it before moving on.*"
   ]
  },
  {
   "cell_type": "code",
   "execution_count": 118,
   "metadata": {},
   "outputs": [
    {
     "data": {
      "text/plain": [
       "0.9794101279910963"
      ]
     },
     "execution_count": 118,
     "metadata": {},
     "output_type": "execute_result"
    }
   ],
   "source": [
    "clf = TwoLayerPerceptronVect(n_hidden=10, epochs=1500, eta=0.001)\n",
    "clf.fit(X,y)\n",
    "\n",
    "from sklearn.metrics import accuracy_score\n",
    "yhat = clf.predict(X)\n",
    "accuracy_score(y,yhat)"
   ]
  },
  {
   "cell_type": "markdown",
   "metadata": {},
   "source": [
    "___\n",
    "## Visualizing the gradients\n",
    "Now let's check your calculation of the average gradient magnitude. Run the code below to visualize the average gradient magnitude versus the epochs run while training. \n",
    "\n",
    "*If the code below does not run, you likely have an error in your calculation of the average gradient magnitude.*"
   ]
  },
  {
   "cell_type": "code",
   "execution_count": 119,
   "metadata": {},
   "outputs": [
    {
     "data": {
      "image/png": "[encoded data removed]",
      "text/plain": [
       "<Figure size 432x288 with 1 Axes>"
      ]
     },
     "metadata": {
      "needs_background": "light"
     },
     "output_type": "display_data"
    }
   ],
   "source": [
    "ax = plt.subplot(1,1,1)\n",
    "plt.plot(abs(clf.grad_w1_[10:]), label='w1')\n",
    "plt.plot(abs(clf.grad_w2_[10:]), label='w2')\n",
    "plt.legend()\n",
    "plt.ylabel('Average gradient magnitude')\n",
    "plt.xlabel('Iteration')\n",
    "plt.show()"
   ]
  },
  {
   "cell_type": "markdown",
   "metadata": {},
   "source": [
    "**Question 5:** In the plot above, you should see that one layer always has a larger gradient magnitude than the other layer. \n",
    "\n",
    "- **Part A:** Which layer always has the larger magnitude? Why do you think this particular layer always has a larger magnitude? \n",
    "- **Part B:** If one layer has a larger gradient, does this also mean that the weights for that layer are training more quickly (that is, with fewer iterations)? Is that desireable for training the neural network? Explain your reasoning. "
   ]
  },
  {
   "cell_type": "markdown",
   "metadata": {},
   "source": [
    "*Enter you answer here (double click to edit)*\n",
    "\n",
    "- Part A: W2 layer always has the larger magnitude, because the last layer in model is accumulated magnitudes. In general, the last layer which is W2 always have larger magnitude.\n",
    "- Part B: No, it does not mean weights for that layer are training more quickly. Few iterations do not mean less time. Sometimes it cost much more time than others. This is also related to batch sizes in neural network. If our batch size is large and iteration is small, it also need much time. I think we can not only talk about the iterations alone. In neural network, there are other parameters that need to be adjusted with iteration in order to get better performance and less time consuming. \n",
    "\n",
    "___"
   ]
  },
  {
   "cell_type": "markdown",
   "metadata": {},
   "source": [
    "**Final Exercise:** In the block of code below, come up with an adaptive scheme to mitigate the effect of unequal magnitude gradients in each layer. Save the magnitude of the resulting update for each layer. \n",
    "\n",
    "Explain your scheme below (that is, document what your adaptive algorithm does) and then implement your strategy below. "
   ]
  },
  {
   "cell_type": "markdown",
   "metadata": {},
   "source": [
    "___\n",
    "Enter description here (*double click to edit*)\n",
    "\n",
    "For preventing unequal gradients, I decided to calculate the ratio of each gradient for the sum of two gradient. This vanishing gradient problem. if we do the ratio, it will change the gradients to the same level of scale. \n",
    "\n",
    "___"
   ]
  },
  {
   "cell_type": "code",
   "execution_count": 153,
   "metadata": {},
   "outputs": [
    {
     "name": "stdout",
     "output_type": "stream",
     "text": [
      "0.9838619922092376\n"
     ]
    },
    {
     "data": {
      "image/png": "[encoded data removed]",
      "text/plain": [
       "<Figure size 432x288 with 1 Axes>"
      ]
     },
     "metadata": {
      "needs_background": "light"
     },
     "output_type": "display_data"
    }
   ],
   "source": [
    "class TwoLayerPerceptronNew(TwoLayerPerceptronVect):\n",
    "    def _get_gradient(self, A1, A2, A3, Z1, Z2, Y, W1, W2):\n",
    "        \"\"\" Compute gradient step using backpropagation.\n",
    "        \"\"\"\n",
    "        \n",
    "        #---------------------------------\n",
    "        # ENTER YOUR CODE HERE to\n",
    "        # calculate the sensitivities\n",
    "    \n",
    "        V2 = -2*(Y - A3)*A3*(1-A3)\n",
    "        V1 = A2*(1-A2) * (W2.T @V2)\n",
    "        #---------------------------------\n",
    "        \n",
    "        grad2 = V2 @ A2.T\n",
    "        grad1 = V1[1:,:] @ A1.T # don't include added bias term in recurrence relation\n",
    "\n",
    "        return grad1, grad2\n",
    "    \n",
    "    def fit(self, X, y):\n",
    "        \"\"\" Learn weights from training data.\n",
    "            Input X should be a matrix with separate instances\n",
    "            in each row, and separate features in each column.\n",
    "            The target variable, y, should be integer values \n",
    "            starting from zero, that represent the unique classes.\n",
    "        \"\"\"\n",
    "        \n",
    "        # copy over the data and one-hot-encode Y\n",
    "        X_data, y_data = X.copy(), y.copy()\n",
    "        Y_enc = self._encode_labels(y)\n",
    "        \n",
    "        # init weights and setup matrices\n",
    "        self.n_features_ = X_data.shape[1]\n",
    "        self.n_output_ = Y_enc.shape[0]\n",
    "        self.W1, self.W2 = self._initialize_weights()\n",
    "\n",
    "        #------------------------------------------\n",
    "        # Enter you Code here to initialize \n",
    "        # self.grad_w1_ and self.grad_w2_\n",
    "        self.grad_w11_ =[]\n",
    "        self.grad_w22_ = []\n",
    "        self.grad_w1_ =[]\n",
    "        self.grad_w2_ = []\n",
    "        #------------------------------------------\n",
    "        \n",
    "        # run training for specified number of iterations\n",
    "        for i in range(self.epochs):\n",
    "\n",
    "            # feedforward all instances\n",
    "            A1, Z1, A2, Z2, A3 = self._feedforward(X_data,self.W1,self.W2)\n",
    "\n",
    "            # compute gradient via backpropagation\n",
    "            grad1, grad2 = self._get_gradient(A1=A1, A2=A2, A3=A3, Z1=Z1, Z2=Z2, Y=Y_enc,\n",
    "                                              W1=self.W1, W2=self.W2)\n",
    "            \n",
    "            #------------------------------------------\n",
    "            # ENTER YOUR CODE HERE to keep track of the \n",
    "            #    average magnitude of gradient of each layer \n",
    "            #    grad_w1_ and grad_w2_\n",
    "            #    and make the eta values for each adaptive \n",
    "            self.grad_w11_.append(np.mean(grad1)/(np.mean(grad1)+np.mean(grad2)))\n",
    "            self.grad_w22_.append(np.mean(grad2)/(np.mean(grad1)+np.mean(grad2)))\n",
    "            #reshape the append to a array format\n",
    "            self.grad_w1_ = np.array(self.grad_w11_).reshape(len(self.grad_w11_))\n",
    "            self.grad_w2_ = np.array(self.grad_w22_).reshape(len(self.grad_w22_))\n",
    "            \n",
    "            \n",
    "            #------------------------------------------\n",
    "\n",
    "            # update each matrix to minimize objective function\n",
    "            self.W1 -= self.eta * grad1\n",
    "            self.W2 -= self.eta * grad2\n",
    "            \n",
    "\n",
    "        return self\n",
    "    \n",
    "    \n",
    "clf2 = TwoLayerPerceptronNew(n_hidden=10, epochs=1500, eta=0.001)\n",
    "clf2.fit(X,y)\n",
    "\n",
    "from sklearn.metrics import accuracy_score\n",
    "yhat = clf2.predict(X)\n",
    "print(accuracy_score(y,yhat))\n",
    "\n",
    "ax = plt.subplot(1,1,1)\n",
    "plt.plot(abs(clf2.grad_w1_[10:]), label='w1')\n",
    "plt.plot(abs(clf2.grad_w2_[10:]), label='w2')\n",
    "plt.legend()\n",
    "plt.ylabel('Average gradient magnitude')\n",
    "plt.xlabel('Iteration')\n",
    "plt.show()"
   ]
  },
  {
   "cell_type": "markdown",
   "metadata": {},
   "source": [
    "________________________________________________________________________________________________________\n",
    "\n",
    "That's all! Please **save (make sure you saved!!!) and upload your rendered notebook** and please include **team member names** in the notebook submission."
   ]
  },
  {
   "cell_type": "code",
   "execution_count": null,
   "metadata": {},
   "outputs": [],
   "source": []
  }
 ],
 "metadata": {
  "anaconda-cloud": {},
  "kernelspec": {
   "display_name": "Python 3",
   "language": "python",
   "name": "python3"
  },
  "language_info": {
   "codemirror_mode": {
    "name": "ipython",
    "version": 3
   },
   "file_extension": ".py",
   "mimetype": "text/x-python",
   "name": "python",
   "nbconvert_exporter": "python",
   "pygments_lexer": "ipython3",
   "version": "3.7.3"
  }
 },
 "nbformat": 4,
 "nbformat_minor": 1
}
